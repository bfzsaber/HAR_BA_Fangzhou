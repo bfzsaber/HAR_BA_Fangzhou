{
 "cells": [
  {
   "cell_type": "code",
   "execution_count": 5,
   "id": "37dcd7d5-bd37-4cde-884c-b89068d8a472",
   "metadata": {
    "tags": []
   },
   "outputs": [],
   "source": [
    "import torch\n",
    "import torch.nn as nn\n",
    "import torch.nn.functional as F\n"
   ]
  },
  {
   "cell_type": "code",
   "execution_count": 13,
   "id": "db04e964-3acc-40ed-b440-e113068353c8",
   "metadata": {
    "tags": []
   },
   "outputs": [
    {
     "name": "stdout",
     "output_type": "stream",
     "text": [
      "torch.Size([1, 1, 169, 18])\n"
     ]
    }
   ],
   "source": [
    "data_usage = torch.randn(1, 1, 169, 18)\n",
    "print(data_usage.shape)"
   ]
  },
  {
   "cell_type": "code",
   "execution_count": 17,
   "id": "9d6270ec-4b9b-474d-a287-2fd469e1ef82",
   "metadata": {
    "tags": []
   },
   "outputs": [
    {
     "name": "stdout",
     "output_type": "stream",
     "text": [
      "torch.Size([1, 64, 165, 18]) \n",
      "\n"
     ]
    }
   ],
   "source": [
    "cnn2d_1 = nn.Conv2d(in_channels=1, out_channels=64, kernel_size=(5,1), stride=1)\n",
    "X = cnn2d_1(data_usage)\n",
    "print(X.shape, \"\\n\")\n",
    "\n"
   ]
  },
  {
   "cell_type": "code",
   "execution_count": 19,
   "id": "e07bfcbb-8d2f-488c-bc03-f05d8c89a71d",
   "metadata": {
    "tags": []
   },
   "outputs": [
    {
     "name": "stdout",
     "output_type": "stream",
     "text": [
      "torch.Size([1, 64, 79, 18]) \n",
      "\n"
     ]
    }
   ],
   "source": [
    "cnn2d_2 = nn.Conv2d(in_channels=64, out_channels=64, kernel_size=(5,1), stride=(2,1))\n",
    "X = cnn2d_2(X)\n",
    "print(X.shape, \"\\n\")"
   ]
  },
  {
   "cell_type": "code",
   "execution_count": null,
   "id": "399055b6-ed9d-4212-8041-815427a5ce39",
   "metadata": {},
   "outputs": [],
   "source": []
  }
 ],
 "metadata": {
  "kernelspec": {
   "display_name": "Python 3 (ipykernel)",
   "language": "python",
   "name": "python3"
  },
  "language_info": {
   "codemirror_mode": {
    "name": "ipython",
    "version": 3
   },
   "file_extension": ".py",
   "mimetype": "text/x-python",
   "name": "python",
   "nbconvert_exporter": "python",
   "pygments_lexer": "ipython3",
   "version": "3.7.16"
  }
 },
 "nbformat": 4,
 "nbformat_minor": 5
}
