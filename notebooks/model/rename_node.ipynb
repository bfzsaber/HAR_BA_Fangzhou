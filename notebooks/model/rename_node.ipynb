{
 "cells": [
  {
   "cell_type": "code",
   "execution_count": 1,
   "id": "30773ece-55f5-4c53-8f55-23271f180953",
   "metadata": {
    "tags": []
   },
   "outputs": [],
   "source": [
    "import onnx"
   ]
  },
  {
   "cell_type": "code",
   "execution_count": 4,
   "id": "6d99eb95-9d89-4d57-bf87-3103e9c058c0",
   "metadata": {
    "tags": []
   },
   "outputs": [],
   "source": [
    "onnx_model = onnx.load('dsads_attn_conv_4.onnx')"
   ]
  },
  {
   "cell_type": "code",
   "execution_count": 5,
   "id": "413f742e-421a-4007-aa2c-6e91591a054c",
   "metadata": {
    "tags": []
   },
   "outputs": [],
   "source": [
    "def store_indices_and_names(onnx_model):\n",
    "    indices_and_names = [(i, node.name) for i, node in enumerate(onnx_model.graph.node)]\n",
    "    return indices_and_names"
   ]
  },
  {
   "cell_type": "code",
   "execution_count": 6,
   "id": "fe0ef421-f1a8-4ab5-af5d-30b2645b5e5f",
   "metadata": {
    "tags": []
   },
   "outputs": [],
   "source": [
    "def get_by_name(container, name, name_field=\"name\"):\n",
    "    \"\"\"Return item from protobuf container by .name field if it exists, None otherwise.\n",
    "    Will throw an Exception if multiple items are found, since this violates the\n",
    "    ONNX standard.\"\"\"\n",
    "    names = [getattr(x, name_field) for x in container]\n",
    "\n",
    "    inds = [i for i, e in enumerate(names) if e == name]\n",
    "    if len(inds) > 1:\n",
    "        print(name)\n",
    "        raise Exception(\"Found multiple get_by_name matches, undefined behavior\")\n",
    "    elif len(inds) == 0:\n",
    "        return None\n",
    "    else:\n",
    "        ind = inds[0]\n",
    "        return container[ind]"
   ]
  },
  {
   "cell_type": "code",
   "execution_count": 7,
   "id": "be781670-64a2-41b7-b47a-66484e28dac6",
   "metadata": {
    "tags": []
   },
   "outputs": [],
   "source": [
    "def get_by_name_multiple(container, name, name_field=\"name\"):\n",
    "\n",
    "    names = [getattr(x, name_field) for x in container]\n",
    "\n",
    "    inds = [i for i, e in enumerate(names) if e == name]\n",
    "    if len(inds) > 1:\n",
    "        ind = inds[0]\n",
    "        return container[ind]\n",
    "    elif len(inds) == 0:\n",
    "        return None\n",
    "    else:\n",
    "        ind = inds[0]\n",
    "        return container[ind]"
   ]
  },
  {
   "cell_type": "code",
   "execution_count": 8,
   "id": "35e04e95-32cd-4610-bf6d-cecc4ce35d42",
   "metadata": {
    "tags": []
   },
   "outputs": [],
   "source": [
    "def rename_tensor(model, old_name, new_name):\n",
    "        \"\"\"Renames a tensor from old_name to new_name.\"\"\"\n",
    "        graph = model.graph\n",
    "        # sweep over inputs\n",
    "        if get_by_name(graph.input, old_name) is not None:\n",
    "            get_by_name(graph.input, old_name).name = new_name\n",
    "        # sweep over outputs\n",
    "        if get_by_name(graph.output, old_name) is not None:\n",
    "            get_by_name(graph.output, old_name).name = new_name\n",
    "        # sweep over value_info\n",
    "        if get_by_name(graph.value_info, old_name) is not None:\n",
    "            get_by_name(graph.value_info, old_name).name = new_name\n",
    "        # sweep over initializers\n",
    "        if get_by_name(graph.initializer, old_name) is not None:\n",
    "            get_by_name(graph.initializer, old_name).name = new_name\n",
    "        # sweep over quantization annotations\n",
    "        \n",
    "        if get_by_name_multiple(graph.quantization_annotation, old_name, \"tensor_name\") is not None:\n",
    "            get_by_name_multiple(graph.quantization_annotation, old_name, \"tensor_name\").tensor_name = new_name\n",
    "        # sweep over node i/o\n",
    "        for n in graph.node:\n",
    "            if old_name in n.input:\n",
    "                n.input[list(n.input).index(old_name)] = new_name\n",
    "            if old_name in n.output:\n",
    "                n.output[list(n.output).index(old_name)] = new_name"
   ]
  },
  {
   "cell_type": "code",
   "execution_count": 9,
   "id": "07627ee5-ae6f-414d-b0d5-d226ee1d5799",
   "metadata": {
    "tags": []
   },
   "outputs": [],
   "source": [
    "def GiveUniqueNodeNames(onnx_model):\n",
    "        optype_count = {}\n",
    "        for n in onnx_model.graph.node:\n",
    "            if n.op_type not in optype_count.keys():\n",
    "                optype_count[n.op_type] = 0\n",
    "            n.name = \"%s_%d\" % (n.op_type, optype_count[n.op_type])\n",
    "            optype_count[n.op_type] += 1\n",
    "        # return model_was_changed = False as single iteration is always enough\n",
    "        return onnx_model"
   ]
  },
  {
   "cell_type": "code",
   "execution_count": 10,
   "id": "8231c0e8-24aa-4ba3-a15b-ea676c6d32a2",
   "metadata": {
    "tags": []
   },
   "outputs": [],
   "source": [
    "def get_all_tensor_names(model):\n",
    "        \"\"\"Returns a list of all (input, output and value_info) tensor names\n",
    "        in the graph.\"\"\"\n",
    "        graph = model.graph\n",
    "        names = [x.name for x in graph.value_info]\n",
    "        names += [x.name for x in graph.input]\n",
    "        names += [x.name for x in graph.output]\n",
    "        return names"
   ]
  },
  {
   "cell_type": "code",
   "execution_count": 11,
   "id": "5072931e-d3ac-4ae5-a163-5dc2a44fd282",
   "metadata": {
    "tags": []
   },
   "outputs": [],
   "source": [
    "import string\n",
    "import random\n",
    "\n",
    "def random_string(stringLength=6):\n",
    "    \"\"\"Randomly generate a string of letters and digits.\"\"\"\n",
    "    lettersAndDigits = string.ascii_letters + string.digits\n",
    "    return \"\".join(random.choice(lettersAndDigits) for i in range(stringLength))"
   ]
  },
  {
   "cell_type": "code",
   "execution_count": 12,
   "id": "f209d85a-8803-4633-94ae-41db64c2c317",
   "metadata": {
    "tags": []
   },
   "outputs": [],
   "source": [
    "def GiveRandomTensorNames(model):\n",
    "    names = get_all_tensor_names(model)\n",
    "    for name in names:\n",
    "        rename_tensor(model,name, random_string())\n",
    "    return model"
   ]
  },
  {
   "cell_type": "code",
   "execution_count": 13,
   "id": "f8a2fc81-a0ac-4be9-bd3b-faa348a4573c",
   "metadata": {
    "tags": []
   },
   "outputs": [],
   "source": [
    "import onnx.numpy_helper as np_helper\n",
    "\n",
    "def get_initializer(model, tensor_name, return_dtype=False):\n",
    "        \"\"\"Gets the initializer value for tensor with given name, if any.\n",
    "        ret_dtype can be set to True to retrieve the TensorProto.DataType of the\n",
    "        initializer by returning it as a second element of a tuple.\"\"\"\n",
    "        graph = model.graph\n",
    "        init_names = [x.name for x in graph.initializer]\n",
    "        try:\n",
    "            init_ind = init_names.index(tensor_name)\n",
    "            ret = np_helper.to_array(graph.initializer[init_ind])\n",
    "            ret_dtype = graph.initializer[init_ind].data_type\n",
    "            if return_dtype:\n",
    "                return (ret, ret_dtype)\n",
    "            else:\n",
    "                return ret\n",
    "        except ValueError:\n",
    "            if return_dtype:\n",
    "                return (None, None)\n",
    "            else:\n",
    "                return None\n"
   ]
  },
  {
   "cell_type": "code",
   "execution_count": 14,
   "id": "a7b27cd8-02c6-48bc-8039-5b7d2d31fe6e",
   "metadata": {
    "tags": []
   },
   "outputs": [],
   "source": [
    "def GiveReadableTensorNames(model):\n",
    "    model = GiveRandomTensorNames(model)\n",
    "    graph = model.graph\n",
    "    for n in graph.node:\n",
    "            assert n.name != \"\", \"Found empty node name\"\n",
    "            out_num = 0\n",
    "            for o in n.output:\n",
    "                rename_tensor(model,o, \"%s_out%d\" % (n.name, out_num))\n",
    "                out_num += 1\n",
    "            init_in_num = 0\n",
    "            for i in n.input:\n",
    "                if get_initializer(model, i) is not None:\n",
    "                    rename_tensor(model, i, \"%s_param%d\" % (n.name, init_in_num))\n",
    "                    init_in_num += 1\n",
    "    # give special names to the model inputs and outputs\n",
    "    for i, inp in enumerate(model.graph.input):\n",
    "        iname = \"global_in\" if i == 0 else \"global_in_%d\" % i\n",
    "        rename_tensor(model, inp.name, iname)\n",
    "    for i, outp in enumerate(model.graph.output):\n",
    "        oname = \"global_out\" if i == 0 else \"global_out_%d\" % i\n",
    "        rename_tensor(model, outp.name, oname)\n",
    "        # return model_was_changed = False as single iteration is always enough\n",
    "    return model"
   ]
  },
  {
   "cell_type": "markdown",
   "id": "9a0438df-dbc4-42ed-8ff8-2a81078ae3b4",
   "metadata": {
    "tags": []
   },
   "source": [
    "def constant_output_handler(onnx_model):\n",
    "    for i in range(len(onnx_model.graph.node)):\n",
    "        init_in_num = 0\n",
    "        for j in range(len(onnx_model.graph.node[i].input)):\n",
    "            \n",
    "            if get_initializer(model, i) is not None:\n",
    "                \n",
    "                if \"Constant\" in onnx_model.graph.node[i].input[j]:\n",
    "                    \n",
    "                init_in_num += 1\n",
    "            \n",
    "            if \"Constant\" in onnx_model.graph.node[i].input[j]:\n",
    "                #print('-'*60)\n",
    "                input_name = onnx_model.graph.node[i].input[j]\n",
    "                #print(input_name)\n",
    "                new_name = f\"{onnx_model.graph.node[i].name}_param0\" \n",
    "                \"\"\"\n",
    "                for k in range(len(onnx_model.graph.initializer)):\n",
    "                    init_name = onnx_model.graph.initializer[k].name\n",
    "                    if input_name == init_name:\n",
    "                        #print(init_name)\n",
    "                        onnx_model.graph.initializer[i].name = f\"{onnx_model.graph.node[i].name}_param0\"\n",
    "                \"\"\"\n",
    "                for l in range(len(onnx_model.graph.quantization_annotation)):\n",
    "                    tensor_name = onnx_model.graph.initializer[k].tensor_name\n",
    "                    if input_name == tensor_name:\n",
    "                        #print(init_name)\n",
    "                        tensor_name = onnx_model.graph.initializer[k].tensor_name = f\"{onnx_model.graph.node[i].name}_param0\"\n",
    "                \n",
    "                onnx_model.graph.node[i].input[j] = f\"{onnx_model.graph.node[i].name}_param0\" "
   ]
  },
  {
   "cell_type": "markdown",
   "id": "fa144c2e-7bda-4c04-bade-3564ad65729a",
   "metadata": {},
   "source": [
    "def constant_output_handler(onnx_model):\n",
    "    for i in range(len(onnx_model.graph.node)):\n",
    "        init_in_num = 0\n",
    "        for j in range(len(onnx_model.graph.node[i].input)):\n",
    "            if \"Constant\" in onnx_model.graph.node[i].input[j]:\n",
    "                #print('-'*60)\n",
    "                input_name = onnx_model.graph.node[i].input[j]\n",
    "                #print(input_name)\n",
    "                new_name = f\"{onnx_model.graph.node[i].name}_param0\" \n",
    "                \"\"\"\n",
    "                for k in range(len(onnx_model.graph.initializer)):\n",
    "                    init_name = onnx_model.graph.initializer[k].name\n",
    "                    if input_name == init_name:\n",
    "                        #print(init_name)\n",
    "                        onnx_model.graph.initializer[i].name = f\"{onnx_model.graph.node[i].name}_param0\"\n",
    "                \"\"\"\n",
    "                for l in range(len(onnx_model.graph.quantization_annotation)):\n",
    "                    tensor_name = onnx_model.graph.initializer[k].tensor_name\n",
    "                    if input_name == tensor_name:\n",
    "                        #print(init_name)\n",
    "                        tensor_name = onnx_model.graph.initializer[k].tensor_name = f\"{onnx_model.graph.node[i].name}_param0\"\n",
    "                \n",
    "                onnx_model.graph.node[i].input[j] = f\"{onnx_model.graph.node[i].name}_param0\" \n"
   ]
  },
  {
   "cell_type": "code",
   "execution_count": 15,
   "id": "37de6e14-7d85-4bb6-b69d-823279463824",
   "metadata": {
    "tags": []
   },
   "outputs": [],
   "source": [
    "\"\"\"\n",
    "for i in onnx_model.graph.quantization_annotation:\n",
    "    print('-'*60)\n",
    "    print(i.tensor_name)\n",
    "    name = random_string()\n",
    "    i.tensor_name = name\n",
    "    print(name)\n",
    "\"\"\"\n",
    "onnx_model = GiveUniqueNodeNames(onnx_model)\n",
    "onnx_model = GiveReadableTensorNames(onnx_model)\n",
    "onnx_model = onnx.save(onnx_model, 'dsads_attn_conv_4_mod.onnx')"
   ]
  },
  {
   "cell_type": "code",
   "execution_count": 16,
   "id": "fa9da9fe-90b6-44fa-930b-42c96450a3bd",
   "metadata": {
    "tags": []
   },
   "outputs": [
    {
     "ename": "AttributeError",
     "evalue": "'NoneType' object has no attribute 'graph'",
     "output_type": "error",
     "traceback": [
      "\u001b[0;31m---------------------------------------------------------------------------\u001b[0m",
      "\u001b[0;31mAttributeError\u001b[0m                            Traceback (most recent call last)",
      "\u001b[0;32m/tmp/ipykernel_27542/923193218.py\u001b[0m in \u001b[0;36m<module>\u001b[0;34m\u001b[0m\n\u001b[0;32m----> 1\u001b[0;31m \u001b[0;32mfor\u001b[0m \u001b[0mi\u001b[0m \u001b[0;32min\u001b[0m \u001b[0mrange\u001b[0m\u001b[0;34m(\u001b[0m\u001b[0mlen\u001b[0m\u001b[0;34m(\u001b[0m\u001b[0monnx_model\u001b[0m\u001b[0;34m.\u001b[0m\u001b[0mgraph\u001b[0m\u001b[0;34m.\u001b[0m\u001b[0mquantization_annotation\u001b[0m\u001b[0;34m)\u001b[0m\u001b[0;34m)\u001b[0m\u001b[0;34m:\u001b[0m\u001b[0;34m\u001b[0m\u001b[0;34m\u001b[0m\u001b[0m\n\u001b[0m\u001b[1;32m      2\u001b[0m     \u001b[0mname\u001b[0m \u001b[0;34m=\u001b[0m \u001b[0;34m\"/channel_interaction/query/export_handler/Constant_output_0\"\u001b[0m\u001b[0;34m\u001b[0m\u001b[0;34m\u001b[0m\u001b[0m\n\u001b[1;32m      3\u001b[0m     \u001b[0;32mif\u001b[0m\u001b[0;34m(\u001b[0m\u001b[0monnx_model\u001b[0m\u001b[0;34m.\u001b[0m\u001b[0mgraph\u001b[0m\u001b[0;34m.\u001b[0m\u001b[0mquantization_annotation\u001b[0m\u001b[0;34m[\u001b[0m\u001b[0mi\u001b[0m\u001b[0;34m]\u001b[0m\u001b[0;34m.\u001b[0m\u001b[0mtensor_name\u001b[0m \u001b[0;34m==\u001b[0m \u001b[0mname\u001b[0m\u001b[0;34m)\u001b[0m\u001b[0;34m:\u001b[0m\u001b[0;34m\u001b[0m\u001b[0;34m\u001b[0m\u001b[0m\n\u001b[1;32m      4\u001b[0m         \u001b[0mprint\u001b[0m\u001b[0;34m(\u001b[0m\u001b[0monnx_model\u001b[0m\u001b[0;34m.\u001b[0m\u001b[0mgraph\u001b[0m\u001b[0;34m.\u001b[0m\u001b[0mquantization_annotation\u001b[0m\u001b[0;34m[\u001b[0m\u001b[0mi\u001b[0m\u001b[0;34m]\u001b[0m\u001b[0;34m)\u001b[0m\u001b[0;34m\u001b[0m\u001b[0;34m\u001b[0m\u001b[0m\n",
      "\u001b[0;31mAttributeError\u001b[0m: 'NoneType' object has no attribute 'graph'"
     ]
    }
   ],
   "source": [
    "for i in range(len(onnx_model.graph.quantization_annotation)):\n",
    "    name = \"/channel_interaction/query/export_handler/Constant_output_0\"\n",
    "    if(onnx_model.graph.quantization_annotation[i].tensor_name == name):\n",
    "        print(onnx_model.graph.quantization_annotation[i])"
   ]
  },
  {
   "cell_type": "code",
   "execution_count": null,
   "id": "484791dd-825d-4ffc-90e2-d0f0c58c711f",
   "metadata": {
    "tags": []
   },
   "outputs": [],
   "source": [
    "def find_i_by_prefix(onnx_model, name):\n",
    "    indices_and_names = [(i, node.name) for i, node in enumerate(onnx_model.graph.node)]\n",
    "    found_i_list = []\n",
    "\n",
    "    # Extract the node_name from the given name (assuming it follows the pattern {node_name}_output_{anything})\n",
    "    node_name = name.split(\"_output_\")[0]\n",
    "\n",
    "    for i, node_name_from_list in indices_and_names:\n",
    "        if node_name_from_list == node_name:\n",
    "            found_i_list.append(i)\n",
    "\n",
    "    if len(found_i_list) == 1:\n",
    "        return found_i_list[0]\n",
    "    elif len(found_i_list) == 0:\n",
    "        raise Exception(\"No matching elements found.\")\n",
    "    else:\n",
    "        raise Exception(\"Multiple matching elements found.\")"
   ]
  },
  {
   "cell_type": "raw",
   "id": "b1b47263-e6be-4048-87ed-d4ea705916e0",
   "metadata": {
    "tags": []
   },
   "source": [
    "def rename_nodes_by_type(onnx_model, node_type):\n",
    "    assert node_type != \"Mul\"\n",
    "    for i in range(len(onnx_model.graph.node)):\n",
    "        \n",
    "        for j in range(len(onnx_model.graph.node[i].input)):\n",
    "            if node_type in onnx_model.graph.node[i].input[j]:\n",
    "                index = find_i_by_prefix(onnx_model,onnx_model.graph.node[i].input[j])\n",
    "                suffix = onnx_model.graph.node[i].input[j].split(\"_output_\")[1]\n",
    "                new_input_name = f\"{node_type}{index}_output_{suffix}\"\n",
    "                onnx_model.graph.node[i].input[j] = new_input_name\n",
    "\n",
    "        \n",
    "        for j in range(len(onnx_model.graph.node[i].output)):\n",
    "            if node_type in onnx_model.graph.node[i].output[j]:\n",
    "                new_output_name = f\"{node_type}{i}_output_{j}\"\n",
    "                onnx_model.graph.node[i].output[j] = new_output_name\n",
    "                \n",
    "    for i in range(len(onnx_model.graph.node)):\n",
    "      \n",
    "        if node_type in onnx_model.graph.node[i].name:\n",
    "            new_name = f\"{node_type}{i}\"\n",
    "            onnx_model.graph.node[i].name = new_name\n",
    "      "
   ]
  },
  {
   "cell_type": "code",
   "execution_count": null,
   "id": "ab18c400-698c-41ea-ac85-d2ced0a18a62",
   "metadata": {
    "tags": []
   },
   "outputs": [],
   "source": [
    "def rename_nodes_by_type(onnx_model, node_type):\n",
    "    assert node_type != \"Mul\"\n",
    "    for i in range(len(onnx_model.graph.node)):\n",
    "                \n",
    "    for i in range(len(onnx_model.graph.node)):\n",
    "      \n",
    "        if node_type in onnx_model.graph.node[i].name:\n",
    "            new_name = f\"{node_type}{i}\"\n",
    "            onnx_model.graph.node[i].name = new_name\n",
    "      "
   ]
  },
  {
   "cell_type": "code",
   "execution_count": null,
   "id": "0db5f5fc-1b2e-4556-9a16-3aeb4e4db05f",
   "metadata": {},
   "outputs": [],
   "source": [
    "def only_Mul(name):\n",
    "    return \"Mul\" in name and (\"MatMul\" not in name) and (\"MultiThreshold\" not in name)"
   ]
  },
  {
   "cell_type": "code",
   "execution_count": null,
   "id": "b4434e9a-142c-43fd-9759-9c0d3bedfca7",
   "metadata": {
    "tags": []
   },
   "outputs": [],
   "source": [
    "def rename_Mul(onnx_model):\n",
    "    for i in range(len(onnx_model.graph.node)):\n",
    "        \n",
    "        for j in range(len(onnx_model.graph.node[i].input)):\n",
    "            if only_Mul(onnx_model.graph.node[i].input[j]):\n",
    "                index = find_i_by_prefix(onnx_model,onnx_model.graph.node[i].input[j])\n",
    "                suffix = onnx_model.graph.node[i].input[j].split(\"_output_\")[1]\n",
    "                new_input_name = f\"Mul{index}_output_{suffix}\"\n",
    "                onnx_model.graph.node[i].input[j] = new_input_name\n",
    "\n",
    "        \n",
    "        for j in range(len(onnx_model.graph.node[i].output)):\n",
    "            if only_Mul(onnx_model.graph.node[i].output[j]):\n",
    "                new_output_name = f\"Mul{i}_output_{j}\"\n",
    "                onnx_model.graph.node[i].output[j] = new_output_name\n",
    "                \n",
    "    for i in range(len(onnx_model.graph.node)):\n",
    "      \n",
    "        if only_Mul(onnx_model.graph.node[i].name):\n",
    "            new_name = f\"Mul{i}\"\n",
    "            onnx_model.graph.node[i].name = new_name    "
   ]
  },
  {
   "cell_type": "code",
   "execution_count": null,
   "id": "db792805-bc29-46e6-8e89-a8c8489868e9",
   "metadata": {
    "tags": []
   },
   "outputs": [],
   "source": [
    "rename_nodes_by_type(onnx_model, \"MatMul\")\n",
    "rename_nodes_by_type(onnx_model, \"MultiThreshold\")\n",
    "rename_nodes_by_type(onnx_model, \"Add\")\n",
    "rename_nodes_by_type(onnx_model, \"Softmax\")\n",
    "rename_nodes_by_type(onnx_model, \"Transpose\")\n",
    "rename_nodes_by_type(onnx_model, \"Unsqueeze\")\n",
    "rename_Mul(onnx_model)"
   ]
  },
  {
   "cell_type": "code",
   "execution_count": null,
   "id": "36864b58-f02a-4ed3-8fcd-5ff7f2ecd10e",
   "metadata": {},
   "outputs": [],
   "source": [
    "def constant_output_handler(onnx_model):\n",
    "    for i in range(len(onnx_model.graph.node)):\n",
    "        for j in range(len(onnx_model.graph.node[i].input)):\n",
    "            if \"Constant\" in onnx_model.graph.node[i].input[j]:\n",
    "                #print('-'*60)\n",
    "                input_name = onnx_model.graph.node[i].input[j]\n",
    "                #print(input_name)\n",
    "                new_name = \n",
    "                \n",
    "                for k in range(len(onnx_model.graph.initializer)):\n",
    "                    init_name = onnx_model.graph.initializer[k].name\n",
    "                    if input_name == init_name:\n",
    "                        #print(init_name)\n",
    "                        onnx_model.graph.initializer[i].name = f\"{onnx_model.graph.node[i].name}_param0\" \n",
    "                for l in range(len(onnx_model.graph.quantization_annotation)):\n",
    "                    tensor_name = onnx_model.graph.initializer[k].tensor_name\n",
    "                    if input_name == tensor_name:\n",
    "                        #print(init_name)\n",
    "                        tensor_name = onnx_model.graph.initializer[k].tensor_name = f\"{onnx_model.graph.node[i].name}_param0\"\n",
    "                \n",
    "                onnx_model.graph.node[i].input[j] = f\"{onnx_model.graph.node[i].name}_param0\" \n"
   ]
  },
  {
   "cell_type": "code",
   "execution_count": null,
   "id": "4c4d7dc5-cb3c-4826-97ed-67e2adc068ec",
   "metadata": {
    "tags": []
   },
   "outputs": [],
   "source": [
    "constant_output_handler(onnx_model)"
   ]
  },
  {
   "cell_type": "code",
   "execution_count": null,
   "id": "ccf54f2d-abc4-46cd-b978-70e9b3e9731b",
   "metadata": {
    "tags": []
   },
   "outputs": [],
   "source": [
    "onnx.save(onnx_model, 'oppo_attn_conv_3_mod.onnx')"
   ]
  },
  {
   "cell_type": "raw",
   "id": "1ea6c66b-bd63-4ca9-ac9c-d9a8e17cb2a6",
   "metadata": {},
   "source": [
    "#constant_output_handler(onnx_model)"
   ]
  },
  {
   "cell_type": "code",
   "execution_count": null,
   "id": "255841c2-5b26-413e-a93c-5a3a19b7eae0",
   "metadata": {
    "tags": []
   },
   "outputs": [],
   "source": [
    "def rename_constant(model):\n",
    "    graph = model.graph\n",
    "    for n in graph.node:\n",
    "        assert n.name != \"\", \"Found empty node name\"\n",
    "        init_in_num = 0\n",
    "        for i in n.input:\n",
    "            if get_initializer(model, i) is not None:\n",
    "                    rename_tensor(model, i, \"%s_param%d\" % (n.name, init_in_num))\n",
    "                    init_in_num += 1"
   ]
  },
  {
   "cell_type": "code",
   "execution_count": null,
   "id": "f8a9de5b-0737-4441-aec2-3974fd7bb524",
   "metadata": {
    "tags": []
   },
   "outputs": [],
   "source": [
    "rename_constant(onnx_model)"
   ]
  },
  {
   "cell_type": "code",
   "execution_count": null,
   "id": "5a6a9760-f66a-4e3b-895f-6a148a618a43",
   "metadata": {
    "tags": []
   },
   "outputs": [],
   "source": []
  }
 ],
 "metadata": {
  "kernelspec": {
   "display_name": "Python 3 (ipykernel)",
   "language": "python",
   "name": "python3"
  },
  "language_info": {
   "codemirror_mode": {
    "name": "ipython",
    "version": 3
   },
   "file_extension": ".py",
   "mimetype": "text/x-python",
   "name": "python",
   "nbconvert_exporter": "python",
   "pygments_lexer": "ipython3",
   "version": "3.7.16"
  }
 },
 "nbformat": 4,
 "nbformat_minor": 5
}
