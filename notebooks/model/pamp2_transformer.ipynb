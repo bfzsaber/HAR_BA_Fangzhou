{
 "cells": [
  {
   "cell_type": "code",
   "execution_count": 1,
   "id": "894e2c21",
   "metadata": {
    "tags": []
   },
   "outputs": [],
   "source": [
    "import warnings\n",
    "warnings.filterwarnings(\"ignore\")\n",
    "\n",
    "import sys\n",
    "sys.path.append(\"../../\")\n",
    "\n",
    "from experiment import Exp\n",
    "\n",
    "from dataloaders import data_set,data_dict\n",
    "import torch\n",
    "import yaml\n",
    "import os\n",
    "\n",
    "import torch\n",
    "from ptflops import get_model_complexity_info"
   ]
  },
  {
   "cell_type": "code",
   "execution_count": 2,
   "id": "1442fd71-d53c-48b9-ad9c-4db58b31cf0e",
   "metadata": {
    "tags": []
   },
   "outputs": [
    {
     "data": {
      "text/plain": [
       "'1.13.1+cu117'"
      ]
     },
     "execution_count": 2,
     "metadata": {},
     "output_type": "execute_result"
    }
   ],
   "source": [
    "torch.__version__"
   ]
  },
  {
   "cell_type": "markdown",
   "id": "bcc56bc7",
   "metadata": {},
   "source": [
    "# Parameter settings"
   ]
  },
  {
   "cell_type": "markdown",
   "id": "dcc5bcbc",
   "metadata": {},
   "source": [
    "# Training parameters"
   ]
  },
  {
   "cell_type": "code",
   "execution_count": 3,
   "id": "86004ce0",
   "metadata": {
    "tags": []
   },
   "outputs": [],
   "source": [
    "class dotdict(dict):\n",
    "    \"\"\"dot.notation access to dictionary attributes\"\"\"\n",
    "    __getattr__ = dict.get\n",
    "    __setattr__ = dict.__setitem__\n",
    "    __delattr__ = dict.__delitem__\n",
    "\n",
    "args = dotdict()   \n",
    "# TODO change the path as relative path\n",
    "args.to_save_path     = r\"../../Run_logs\"            \n",
    "args.freq_save_path   = r\"../../Freq_data\"\n",
    "args.window_save_path = r\"../../Sliding_window\"\n",
    "args.root_path        = r\"../../datasets\"\n",
    "\n",
    "\n",
    "args.drop_transition  = False\n",
    "args.datanorm_type    = \"standardization\" # None ,\"standardization\", \"minmax\"\n",
    "\n",
    "\n",
    "args.batch_size       = 256                                                     \n",
    "args.shuffle          = True\n",
    "args.drop_last        = False\n",
    "args.train_vali_quote = 0.90                                           \n",
    "\n",
    "\n",
    "# training setting \n",
    "args.train_epochs            = 150\n",
    "\n",
    "args.learning_rate           = 0.001  \n",
    "args.learning_rate_patience  = 7\n",
    "args.learning_rate_factor    = 0.1\n",
    "\n",
    "\n",
    "args.early_stop_patience     = 15\n",
    "\n",
    "args.use_gpu                 = True if torch.cuda.is_available() else False\n",
    "args.gpu                     = 0\n",
    "args.use_multi_gpu           = False\n",
    "\n",
    "args.optimizer               = \"Adam\"\n",
    "args.criterion               = \"CrossEntropy\""
   ]
  },
  {
   "cell_type": "markdown",
   "id": "c282cbcb",
   "metadata": {},
   "source": [
    "## Data parameters\n",
    "\n"
   ]
  },
  {
   "cell_type": "code",
   "execution_count": 4,
   "id": "a48f8d23",
   "metadata": {
    "tags": []
   },
   "outputs": [],
   "source": [
    "# oppo : 25/50  2\n",
    "# dg   : 12/24  4\n",
    "# dsads: 12/24  4\n",
    "# pamap2: 10/20  5\n",
    "# wisdm: 12/24  4\n",
    "# skodar : 12/24 4"
   ]
  },
  {
   "cell_type": "code",
   "execution_count": 5,
   "id": "c6cd147b",
   "metadata": {
    "tags": []
   },
   "outputs": [],
   "source": [
    "args.seed                             = 1\n",
    "\n",
    "\n",
    "args.data_name                        =  \"pamap2\"\n",
    "\n",
    "args.wavelet_filtering                = False\n",
    "args.wavelet_filtering_regularization = False\n",
    "args.wavelet_filtering_finetuning     = False\n",
    "args.wavelet_filtering_finetuning_percent = 0.5\n",
    "args.wavelet_filtering_learnable      = False\n",
    "args.wavelet_filtering_layernorm      = False\n",
    "\n",
    "args.regulatization_tradeoff          = 0\n",
    "args.number_wavelet_filtering         = 12\n",
    "\n",
    "\n",
    "args.difference       = False \n",
    "args.filtering        =  False\n",
    "args.magnitude        =  False\n",
    "args.weighted_sampler = False\n",
    "\n",
    "\n",
    "\n",
    "\n",
    "args.pos_select       = None\n",
    "args.sensor_select    = None\n",
    "\n",
    "\n",
    "args.representation_type = \"time\"\n",
    "args.exp_mode            = \"LOCV\"\n",
    "if args.data_name      ==  \"skodar\":\n",
    "    args.exp_mode            = \"SOCV\"\n",
    "config_file = open('../../configs/data.yaml', mode='r')\n",
    "data_config = yaml.load(config_file, Loader=yaml.FullLoader)\n",
    "config = data_config[args.data_name]\n",
    "\n",
    "args.root_path       = os.path.join(args.root_path,config[\"filename\"])\n",
    "args.sampling_freq   = config[\"sampling_freq\"]\n",
    "args.num_classes     =  config[\"num_classes\"]\n",
    "window_seconds       = config[\"window_seconds\"]\n",
    "args.windowsize      =   int(window_seconds * args.sampling_freq) \n",
    "args.input_length    =  args.windowsize\n",
    "# input information\n",
    "args.c_in            = config[\"num_channels\"]\n",
    "\n",
    "\n",
    "if args.difference:\n",
    "    args.c_in = args.c_in*2\n",
    "\n",
    "if args.wavelet_filtering :\n",
    "    \n",
    "    if args.windowsize%2==1:\n",
    "        N_ds = int(torch.log2(torch.tensor(args.windowsize-1)).floor()) - 2\n",
    "    else:\n",
    "        N_ds = int(torch.log2(torch.tensor(args.windowsize)).floor()) - 2\n",
    "\n",
    "    args.f_in            =  args.number_wavelet_filtering*N_ds+1\n",
    "else:\n",
    "    args.f_in            =  1\n",
    "\n"
   ]
  },
  {
   "cell_type": "markdown",
   "id": "4d435a4c",
   "metadata": {
    "tags": []
   },
   "source": [
    "## Model parameters"
   ]
  },
  {
   "cell_type": "code",
   "execution_count": 6,
   "id": "b36ee8f7",
   "metadata": {
    "tags": []
   },
   "outputs": [],
   "source": [
    "# dsads 27838817.0 99367   26\n",
    "# skodar  9907786.0   67092 24\n",
    "# wisdm 733382.0 16\n",
    "# dg  1041602.0 16\n",
    "# oppo 7377290.0 28"
   ]
  },
  {
   "cell_type": "code",
   "execution_count": 7,
   "id": "740e9ba5-8c19-448e-a371-e790182a2c08",
   "metadata": {
    "tags": []
   },
   "outputs": [
    {
     "name": "stdout",
     "output_type": "stream",
     "text": [
      "Use GPU: cuda:0\n",
      "Build the TinyHAR model!\n",
      "Done!\n",
      "Parameter : 44684\n",
      "Set the seed as :  1\n"
     ]
    }
   ],
   "source": [
    "# 如果我们设置为 \n",
    "\n",
    "\n",
    "args.model_type              = \"tinyhar\"#\"deepconvlstm\"#\"sahar\" #\"deepconvlstm\"\n",
    "\n",
    "args.cross_channel_interaction_type = \"transformer\"\n",
    "args.cross_channel_aggregation_type = \"FC\"\n",
    "args.temporal_info_interaction_type = \"conv\"\n",
    "args.temporal_info_aggregation_type = \"tnaive\"\n",
    "\n",
    "exp = Exp(args)"
   ]
  },
  {
   "cell_type": "code",
   "execution_count": 8,
   "id": "a416f9e9",
   "metadata": {
    "tags": []
   },
   "outputs": [
    {
     "ename": "AttributeError",
     "evalue": "'QuantTensor' object has no attribute 'unsqueeze'",
     "output_type": "error",
     "traceback": [
      "\u001b[0;31m---------------------------------------------------------------------------\u001b[0m",
      "\u001b[0;31mAttributeError\u001b[0m                            Traceback (most recent call last)",
      "\u001b[0;32m/tmp/ipykernel_5799/3047647086.py\u001b[0m in \u001b[0;36m<module>\u001b[0;34m\u001b[0m\n\u001b[1;32m      1\u001b[0m macs, params = get_model_complexity_info(exp.model, (1  ,args.input_length,args.c_in), as_strings=False,\n\u001b[0;32m----> 2\u001b[0;31m                                        print_per_layer_stat=True, verbose=False)\n\u001b[0m\u001b[1;32m      3\u001b[0m \u001b[0mprint\u001b[0m\u001b[0;34m(\u001b[0m\u001b[0;34m'{:<30}  {:<8}'\u001b[0m\u001b[0;34m.\u001b[0m\u001b[0mformat\u001b[0m\u001b[0;34m(\u001b[0m\u001b[0;34m'Computational complexity: '\u001b[0m\u001b[0;34m,\u001b[0m \u001b[0mmacs\u001b[0m\u001b[0;34m)\u001b[0m\u001b[0;34m)\u001b[0m\u001b[0;34m\u001b[0m\u001b[0;34m\u001b[0m\u001b[0m\n\u001b[1;32m      4\u001b[0m \u001b[0mprint\u001b[0m\u001b[0;34m(\u001b[0m\u001b[0;34m'{:<30}  {:<8}'\u001b[0m\u001b[0;34m.\u001b[0m\u001b[0mformat\u001b[0m\u001b[0;34m(\u001b[0m\u001b[0;34m'Number of parameters: '\u001b[0m\u001b[0;34m,\u001b[0m \u001b[0mparams\u001b[0m\u001b[0;34m)\u001b[0m\u001b[0;34m)\u001b[0m\u001b[0;34m\u001b[0m\u001b[0;34m\u001b[0m\u001b[0m\n",
      "\u001b[0;32m~/anaconda3/envs/FPGA/lib/python3.7/site-packages/ptflops/flops_counter.py\u001b[0m in \u001b[0;36mget_model_complexity_info\u001b[0;34m(model, input_res, print_per_layer_stat, as_strings, input_constructor, ost, verbose, ignore_modules, custom_modules_hooks, backend, flops_units, param_units, output_precision)\u001b[0m\n\u001b[1;32m     35\u001b[0m                                                       \u001b[0moutput_precision\u001b[0m\u001b[0;34m=\u001b[0m\u001b[0moutput_precision\u001b[0m\u001b[0;34m,\u001b[0m\u001b[0;34m\u001b[0m\u001b[0;34m\u001b[0m\u001b[0m\n\u001b[1;32m     36\u001b[0m                                                       \u001b[0mflops_units\u001b[0m\u001b[0;34m=\u001b[0m\u001b[0mflops_units\u001b[0m\u001b[0;34m,\u001b[0m\u001b[0;34m\u001b[0m\u001b[0;34m\u001b[0m\u001b[0m\n\u001b[0;32m---> 37\u001b[0;31m                                                       param_units=param_units)\n\u001b[0m\u001b[1;32m     38\u001b[0m     \u001b[0;32melse\u001b[0m\u001b[0;34m:\u001b[0m\u001b[0;34m\u001b[0m\u001b[0;34m\u001b[0m\u001b[0m\n\u001b[1;32m     39\u001b[0m         \u001b[0;32mraise\u001b[0m \u001b[0mValueError\u001b[0m\u001b[0;34m(\u001b[0m\u001b[0;34m'Wrong backend name'\u001b[0m\u001b[0;34m)\u001b[0m\u001b[0;34m\u001b[0m\u001b[0;34m\u001b[0m\u001b[0m\n",
      "\u001b[0;32m~/anaconda3/envs/FPGA/lib/python3.7/site-packages/ptflops/pytorch_engine.py\u001b[0m in \u001b[0;36mget_flops_pytorch\u001b[0;34m(model, input_res, print_per_layer_stat, input_constructor, ost, verbose, ignore_modules, custom_modules_hooks, output_precision, flops_units, param_units)\u001b[0m\n\u001b[1;32m     42\u001b[0m             \u001b[0mbatch\u001b[0m \u001b[0;34m=\u001b[0m \u001b[0mtorch\u001b[0m\u001b[0;34m.\u001b[0m\u001b[0mones\u001b[0m\u001b[0;34m(\u001b[0m\u001b[0;34m(\u001b[0m\u001b[0;34m)\u001b[0m\u001b[0;34m)\u001b[0m\u001b[0;34m.\u001b[0m\u001b[0mnew_empty\u001b[0m\u001b[0;34m(\u001b[0m\u001b[0;34m(\u001b[0m\u001b[0;36m1\u001b[0m\u001b[0;34m,\u001b[0m \u001b[0;34m*\u001b[0m\u001b[0minput_res\u001b[0m\u001b[0;34m)\u001b[0m\u001b[0;34m)\u001b[0m\u001b[0;34m\u001b[0m\u001b[0;34m\u001b[0m\u001b[0m\n\u001b[1;32m     43\u001b[0m \u001b[0;34m\u001b[0m\u001b[0m\n\u001b[0;32m---> 44\u001b[0;31m         \u001b[0m_\u001b[0m \u001b[0;34m=\u001b[0m \u001b[0mflops_model\u001b[0m\u001b[0;34m(\u001b[0m\u001b[0mbatch\u001b[0m\u001b[0;34m)\u001b[0m\u001b[0;34m\u001b[0m\u001b[0;34m\u001b[0m\u001b[0m\n\u001b[0m\u001b[1;32m     45\u001b[0m \u001b[0;34m\u001b[0m\u001b[0m\n\u001b[1;32m     46\u001b[0m     \u001b[0mflops_count\u001b[0m\u001b[0;34m,\u001b[0m \u001b[0mparams_count\u001b[0m \u001b[0;34m=\u001b[0m \u001b[0mflops_model\u001b[0m\u001b[0;34m.\u001b[0m\u001b[0mcompute_average_flops_cost\u001b[0m\u001b[0;34m(\u001b[0m\u001b[0;34m)\u001b[0m\u001b[0;34m\u001b[0m\u001b[0;34m\u001b[0m\u001b[0m\n",
      "\u001b[0;32m~/anaconda3/envs/FPGA/lib/python3.7/site-packages/torch/nn/modules/module.py\u001b[0m in \u001b[0;36m_call_impl\u001b[0;34m(self, *input, **kwargs)\u001b[0m\n\u001b[1;32m   1210\u001b[0m             \u001b[0minput\u001b[0m \u001b[0;34m=\u001b[0m \u001b[0mbw_hook\u001b[0m\u001b[0;34m.\u001b[0m\u001b[0msetup_input_hook\u001b[0m\u001b[0;34m(\u001b[0m\u001b[0minput\u001b[0m\u001b[0;34m)\u001b[0m\u001b[0;34m\u001b[0m\u001b[0;34m\u001b[0m\u001b[0m\n\u001b[1;32m   1211\u001b[0m \u001b[0;34m\u001b[0m\u001b[0m\n\u001b[0;32m-> 1212\u001b[0;31m         \u001b[0mresult\u001b[0m \u001b[0;34m=\u001b[0m \u001b[0mforward_call\u001b[0m\u001b[0;34m(\u001b[0m\u001b[0;34m*\u001b[0m\u001b[0minput\u001b[0m\u001b[0;34m,\u001b[0m \u001b[0;34m**\u001b[0m\u001b[0mkwargs\u001b[0m\u001b[0;34m)\u001b[0m\u001b[0;34m\u001b[0m\u001b[0;34m\u001b[0m\u001b[0m\n\u001b[0m\u001b[1;32m   1213\u001b[0m         \u001b[0;32mif\u001b[0m \u001b[0m_global_forward_hooks\u001b[0m \u001b[0;32mor\u001b[0m \u001b[0mself\u001b[0m\u001b[0;34m.\u001b[0m\u001b[0m_forward_hooks\u001b[0m\u001b[0;34m:\u001b[0m\u001b[0;34m\u001b[0m\u001b[0;34m\u001b[0m\u001b[0m\n\u001b[1;32m   1214\u001b[0m             \u001b[0;32mfor\u001b[0m \u001b[0mhook\u001b[0m \u001b[0;32min\u001b[0m \u001b[0;34m(\u001b[0m\u001b[0;34m*\u001b[0m\u001b[0m_global_forward_hooks\u001b[0m\u001b[0;34m.\u001b[0m\u001b[0mvalues\u001b[0m\u001b[0;34m(\u001b[0m\u001b[0;34m)\u001b[0m\u001b[0;34m,\u001b[0m \u001b[0;34m*\u001b[0m\u001b[0mself\u001b[0m\u001b[0;34m.\u001b[0m\u001b[0m_forward_hooks\u001b[0m\u001b[0;34m.\u001b[0m\u001b[0mvalues\u001b[0m\u001b[0;34m(\u001b[0m\u001b[0;34m)\u001b[0m\u001b[0;34m)\u001b[0m\u001b[0;34m:\u001b[0m\u001b[0;34m\u001b[0m\u001b[0;34m\u001b[0m\u001b[0m\n",
      "\u001b[0;32m~/finn/notebooks/HAR/models/model_builder.py\u001b[0m in \u001b[0;36mforward\u001b[0;34m(self, x)\u001b[0m\n\u001b[1;32m    168\u001b[0m             \u001b[0;32mif\u001b[0m \u001b[0mself\u001b[0m\u001b[0;34m.\u001b[0m\u001b[0margs\u001b[0m\u001b[0;34m.\u001b[0m\u001b[0mwavelet_filtering_regularization\u001b[0m\u001b[0;34m:\u001b[0m\u001b[0;34m\u001b[0m\u001b[0;34m\u001b[0m\u001b[0m\n\u001b[1;32m    169\u001b[0m                 \u001b[0mx\u001b[0m \u001b[0;34m=\u001b[0m \u001b[0mx\u001b[0m \u001b[0;34m*\u001b[0m \u001b[0mself\u001b[0m\u001b[0;34m.\u001b[0m\u001b[0mgamma\u001b[0m\u001b[0;34m\u001b[0m\u001b[0;34m\u001b[0m\u001b[0m\n\u001b[0;32m--> 170\u001b[0;31m         \u001b[0my\u001b[0m \u001b[0;34m=\u001b[0m \u001b[0mself\u001b[0m\u001b[0;34m.\u001b[0m\u001b[0mmodel\u001b[0m\u001b[0;34m(\u001b[0m\u001b[0mx\u001b[0m\u001b[0;34m)\u001b[0m\u001b[0;34m\u001b[0m\u001b[0;34m\u001b[0m\u001b[0m\n\u001b[0m\u001b[1;32m    171\u001b[0m         \u001b[0;32mreturn\u001b[0m \u001b[0my\u001b[0m\u001b[0;34m\u001b[0m\u001b[0;34m\u001b[0m\u001b[0m\n\u001b[1;32m    172\u001b[0m \u001b[0;34m\u001b[0m\u001b[0m\n",
      "\u001b[0;32m~/anaconda3/envs/FPGA/lib/python3.7/site-packages/torch/nn/modules/module.py\u001b[0m in \u001b[0;36m_call_impl\u001b[0;34m(self, *input, **kwargs)\u001b[0m\n\u001b[1;32m   1192\u001b[0m         if not (self._backward_hooks or self._forward_hooks or self._forward_pre_hooks or _global_backward_hooks\n\u001b[1;32m   1193\u001b[0m                 or _global_forward_hooks or _global_forward_pre_hooks):\n\u001b[0;32m-> 1194\u001b[0;31m             \u001b[0;32mreturn\u001b[0m \u001b[0mforward_call\u001b[0m\u001b[0;34m(\u001b[0m\u001b[0;34m*\u001b[0m\u001b[0minput\u001b[0m\u001b[0;34m,\u001b[0m \u001b[0;34m**\u001b[0m\u001b[0mkwargs\u001b[0m\u001b[0;34m)\u001b[0m\u001b[0;34m\u001b[0m\u001b[0;34m\u001b[0m\u001b[0m\n\u001b[0m\u001b[1;32m   1195\u001b[0m         \u001b[0;31m# Do not call functions when jit is used\u001b[0m\u001b[0;34m\u001b[0m\u001b[0;34m\u001b[0m\u001b[0;34m\u001b[0m\u001b[0m\n\u001b[1;32m   1196\u001b[0m         \u001b[0mfull_backward_hooks\u001b[0m\u001b[0;34m,\u001b[0m \u001b[0mnon_full_backward_hooks\u001b[0m \u001b[0;34m=\u001b[0m \u001b[0;34m[\u001b[0m\u001b[0;34m]\u001b[0m\u001b[0;34m,\u001b[0m \u001b[0;34m[\u001b[0m\u001b[0;34m]\u001b[0m\u001b[0;34m\u001b[0m\u001b[0;34m\u001b[0m\u001b[0m\n",
      "\u001b[0;32m~/finn/notebooks/HAR/models/TinyHAR.py\u001b[0m in \u001b[0;36mforward\u001b[0;34m(self, x)\u001b[0m\n\u001b[1;32m    671\u001b[0m         \u001b[0;34m\"\"\" =============== cross channel interaction ===============\"\"\"\u001b[0m\u001b[0;34m\u001b[0m\u001b[0;34m\u001b[0m\u001b[0m\n\u001b[1;32m    672\u001b[0m         x = torch.cat(\n\u001b[0;32m--> 673\u001b[0;31m             \u001b[0;34m[\u001b[0m\u001b[0mself\u001b[0m\u001b[0;34m.\u001b[0m\u001b[0mchannel_interaction\u001b[0m\u001b[0;34m(\u001b[0m\u001b[0mx\u001b[0m\u001b[0;34m[\u001b[0m\u001b[0;34m:\u001b[0m\u001b[0;34m,\u001b[0m \u001b[0;34m:\u001b[0m\u001b[0;34m,\u001b[0m \u001b[0mt\u001b[0m\u001b[0;34m,\u001b[0m \u001b[0;34m:\u001b[0m\u001b[0;34m]\u001b[0m\u001b[0;34m)\u001b[0m\u001b[0;34m.\u001b[0m\u001b[0munsqueeze\u001b[0m\u001b[0;34m(\u001b[0m\u001b[0;36m3\u001b[0m\u001b[0;34m)\u001b[0m \u001b[0;32mfor\u001b[0m \u001b[0mt\u001b[0m \u001b[0;32min\u001b[0m \u001b[0mrange\u001b[0m\u001b[0;34m(\u001b[0m\u001b[0mx\u001b[0m\u001b[0;34m.\u001b[0m\u001b[0mshape\u001b[0m\u001b[0;34m[\u001b[0m\u001b[0;36m2\u001b[0m\u001b[0;34m]\u001b[0m\u001b[0;34m)\u001b[0m\u001b[0;34m]\u001b[0m\u001b[0;34m,\u001b[0m\u001b[0;34m\u001b[0m\u001b[0;34m\u001b[0m\u001b[0m\n\u001b[0m\u001b[1;32m    674\u001b[0m             \u001b[0mdim\u001b[0m\u001b[0;34m=\u001b[0m\u001b[0;34m-\u001b[0m\u001b[0;36m1\u001b[0m\u001b[0;34m,\u001b[0m\u001b[0;34m\u001b[0m\u001b[0;34m\u001b[0m\u001b[0m\n\u001b[1;32m    675\u001b[0m         )\n",
      "\u001b[0;32m~/finn/notebooks/HAR/models/TinyHAR.py\u001b[0m in \u001b[0;36m<listcomp>\u001b[0;34m(.0)\u001b[0m\n\u001b[1;32m    671\u001b[0m         \u001b[0;34m\"\"\" =============== cross channel interaction ===============\"\"\"\u001b[0m\u001b[0;34m\u001b[0m\u001b[0;34m\u001b[0m\u001b[0m\n\u001b[1;32m    672\u001b[0m         x = torch.cat(\n\u001b[0;32m--> 673\u001b[0;31m             \u001b[0;34m[\u001b[0m\u001b[0mself\u001b[0m\u001b[0;34m.\u001b[0m\u001b[0mchannel_interaction\u001b[0m\u001b[0;34m(\u001b[0m\u001b[0mx\u001b[0m\u001b[0;34m[\u001b[0m\u001b[0;34m:\u001b[0m\u001b[0;34m,\u001b[0m \u001b[0;34m:\u001b[0m\u001b[0;34m,\u001b[0m \u001b[0mt\u001b[0m\u001b[0;34m,\u001b[0m \u001b[0;34m:\u001b[0m\u001b[0;34m]\u001b[0m\u001b[0;34m)\u001b[0m\u001b[0;34m.\u001b[0m\u001b[0munsqueeze\u001b[0m\u001b[0;34m(\u001b[0m\u001b[0;36m3\u001b[0m\u001b[0;34m)\u001b[0m \u001b[0;32mfor\u001b[0m \u001b[0mt\u001b[0m \u001b[0;32min\u001b[0m \u001b[0mrange\u001b[0m\u001b[0;34m(\u001b[0m\u001b[0mx\u001b[0m\u001b[0;34m.\u001b[0m\u001b[0mshape\u001b[0m\u001b[0;34m[\u001b[0m\u001b[0;36m2\u001b[0m\u001b[0;34m]\u001b[0m\u001b[0;34m)\u001b[0m\u001b[0;34m]\u001b[0m\u001b[0;34m,\u001b[0m\u001b[0;34m\u001b[0m\u001b[0;34m\u001b[0m\u001b[0m\n\u001b[0m\u001b[1;32m    674\u001b[0m             \u001b[0mdim\u001b[0m\u001b[0;34m=\u001b[0m\u001b[0;34m-\u001b[0m\u001b[0;36m1\u001b[0m\u001b[0;34m,\u001b[0m\u001b[0;34m\u001b[0m\u001b[0;34m\u001b[0m\u001b[0m\n\u001b[1;32m    675\u001b[0m         )\n",
      "\u001b[0;31mAttributeError\u001b[0m: 'QuantTensor' object has no attribute 'unsqueeze'"
     ]
    }
   ],
   "source": [
    "macs, params = get_model_complexity_info(exp.model, (1  ,args.input_length,args.c_in), as_strings=False,\n",
    "                                       print_per_layer_stat=True, verbose=False)\n",
    "print('{:<30}  {:<8}'.format('Computational complexity: ', macs))\n",
    "print('{:<30}  {:<8}'.format('Number of parameters: ', params))"
   ]
  },
  {
   "cell_type": "markdown",
   "id": "5bea8c2c-c0d1-41c4-b906-2b0340eab88a",
   "metadata": {
    "tags": []
   },
   "source": [
    "exp."
   ]
  },
  {
   "cell_type": "code",
   "execution_count": null,
   "id": "bf187351",
   "metadata": {},
   "outputs": [],
   "source": [
    "exp.train()"
   ]
  },
  {
   "cell_type": "markdown",
   "id": "b248cca7-0caa-4e15-b30d-b867a9455f13",
   "metadata": {
    "tags": []
   },
   "source": [
    " if self.args.model_type == \"mcnn\":\n",
    "            config_file = open('../../configs/model.yaml', mode='r')\n",
    "            config = yaml.load(config_file, Loader=yaml.FullLoader)[\"mcnn\"]\n",
    "            setting = \"mcnn_data_{}_seed_{}_windowsize_{}_waveFilter_{}_Fscaling_{}_cvfilter_{}_Regu_{}_wavelearnble_{}\".format(self.args.data_name,\n",
    "                                                                                                                                              self.args.seed,\n",
    "                                                                                                                                              self.args.windowsize,\n",
    "                                                                                                                                              self.args.wavelet_filtering,\n",
    "                                                                                                                                              self.args.filter_scaling_factor,\n",
    "                                                                                                                                              config[\"nb_filters\"],\n",
    "                                                                                                                                              self.args.wavelet_filtering_regularization,\n",
    "                                                                                                                                              self.args.wavelet_filtering_learnable )\n",
    "            return setting\n"
   ]
  },
  {
   "cell_type": "markdown",
   "id": "f6c8ceb9-293c-4a35-8518-6f73eaaf9e46",
   "metadata": {},
   "source": [
    "pamap2:\n",
    "  filename: \"PAMAP2_Dataset/Protocol\"\n",
    "  sampling_freq: 33\n",
    "  num_classes: 12\n",
    "  num_channels: 18\n",
    "  window_seconds: 5.12\n",
    "  \n",
    "self.model  = MCNN((1,f_in, self.args.input_length, self.args.c_in ), \n",
    "                                self.args.num_classes,\n",
    "                                self.args.filter_scaling_factor,\n",
    "                                config)\n",
    "(1,1,169,18) 12, 1\n",
    "f_in = 1\n",
    "args.windowsize      =   int(window_seconds * args.sampling_freq) \n",
    "                     = 169\n",
    "args.filter_scaling_factor =1                     \n",
    "\n",
    "args.root_path       = os.path.join(args.root_path,config[\"filename\"])\n",
    "args.sampling_freq   = config[\"sampling_freq\"]\n",
    "args.num_classes     =  config[\"num_classes\"]\n",
    "window_seconds       = config[\"window_seconds\"]\n",
    "args.windowsize      =   int(window_seconds * args.sampling_freq) \n",
    "args.input_length    =  args.windowsize\n",
    "# input information\n",
    "args.c_in            = config[\"num_channels\"]"
   ]
  },
  {
   "cell_type": "code",
   "execution_count": null,
   "id": "1f7e0bad-2d0a-48d9-ad1d-e8d274093d4b",
   "metadata": {
    "tags": []
   },
   "outputs": [],
   "source": [
    "from models.TinyHAR import TinyHAR_Model\n",
    "from brevitas.export import export_onnx_qcdq"
   ]
  },
  {
   "cell_type": "code",
   "execution_count": null,
   "id": "b377e65f-e44d-44ec-9f58-05b9a5e02152",
   "metadata": {
    "tags": []
   },
   "outputs": [],
   "source": [
    "num_classes = 12\n",
    "num_channels =18\n",
    "windowsize = 168\n",
    "input_shape =(1, 1, windowsize, num_channels)\n",
    "print(input_shape)\n",
    "config_file = open('../../configs/model.yaml', mode='r')\n",
    "config = yaml.load(config_file, Loader=yaml.FullLoader)[\"tinyhar\"]\n"
   ]
  },
  {
   "cell_type": "code",
   "execution_count": null,
   "id": "34266ea1-182a-4fe1-9221-81b51fd374fc",
   "metadata": {
    "tags": []
   },
   "outputs": [],
   "source": [
    "model = TinyHAR_Model(input_shape = input_shape,\n",
    "                      number_class = num_classes,\n",
    "                      filter_num = 20,\n",
    "                      cross_channel_interaction_type = \"transformer\",\n",
    "                      cross_channel_aggregation_type = \"FC\",\n",
    "                      temporal_info_interaction_type = \"conv\",\n",
    "                      temporal_info_aggregation_type = \"tnaive\")"
   ]
  },
  {
   "cell_type": "code",
   "execution_count": null,
   "id": "d9d51f2c-4cad-4e33-bb95-1185e9e0b1f3",
   "metadata": {},
   "outputs": [],
   "source": [
    "loadPath =loadPath = \"/home/bian/finn/notebooks/HAR/Run_logs/logs/tinyhar_data_pamap2_seed_1_windowsize_168_cvfilter_20_CI_attn_CA_FC_TI_conv_TA_tnaive/cv_0/final_best_vali.pth\"\n",
    "\n",
    "model.load_state_dict(torch.load(loadPath),strict=False)\n",
    "model.eval()"
   ]
  },
  {
   "cell_type": "code",
   "execution_count": null,
   "id": "ae503bb2-baf4-4675-a9da-bf98d562f1c5",
   "metadata": {},
   "outputs": [],
   "source": [
    "import torch\n",
    "import brevitas.onnx as bo\n",
    "from brevitas.quant_tensor import QuantTensor\n",
    "\n",
    "ready_model_filename = \"pamp2_attn_conv_4.onnx\"\n",
    "\n",
    "# Export to ONNX\n",
    "#Move to CPU before export\n",
    "model.cpu()\n",
    "inp = torch.randn(1, 1, windowsize, num_channels)\n",
    "bo.export_finn_onnx(model, inp, ready_model_filename)\n",
    "\n",
    "print(\"Model saved to %s\" % ready_model_filename)"
   ]
  },
  {
   "cell_type": "markdown",
   "id": "1d8cac11-2a26-426c-9745-ce6094d0a6f8",
   "metadata": {},
   "source": [
    "# measurement"
   ]
  },
  {
   "cell_type": "code",
   "execution_count": null,
   "id": "b8868a9d-6970-4449-b618-202b77205e9c",
   "metadata": {
    "tags": []
   },
   "outputs": [],
   "source": [
    "from LatencyMeasurer import LatencyMeasurer\n",
    "\n",
    "model = model.cpu()\n",
    "measurer = LatencyMeasurer(model)\n",
    "\n",
    "cpu_latency = measurer.measure_latency_CPU(input_shape)\n",
    "cpu_finn_latency = measurer.measure_CPU_latency_finn(model.forward_truncated, input_shape)\n",
    "print(f\"cpu latency for quantized TinyHAR: {cpu_latency}s,\\nfinn part latency: {cpu_finn_latency}s\")\n",
    "model = model.cuda()\n",
    "measurer = LatencyMeasurer(model)\n",
    "gpu_latency = measurer.measure_GPU_latency(input_shape)\n",
    "gpu_finn_latency = measurer.measure_GPU_finn_latency(model.forward_truncated, input_shape)\n",
    "print(f\"gpu latency for quantized TinyHAR: {gpu_latency}s,\\nfinn part latency: {gpu_finn_latency}s\")"
   ]
  },
  {
   "cell_type": "code",
   "execution_count": null,
   "id": "37da4793-21d1-402f-91dd-4d23cbe3dcd6",
   "metadata": {
    "tags": []
   },
   "outputs": [],
   "source": [
    "import PowerMeasurer\n",
    "\n",
    "model = model.cuda()\n",
    "gpu_power = PowerMeasurer.measure_gpu_power(model, input_shape)\n",
    "gpu_power_finn = PowerMeasurer.measure_gpu_finn_power(model, model.forward_truncated,input_shape)\n",
    "print(f\"gpu power consumption for quantized TinyHAR: {gpu_power}W,\\nfinn part latency: {gpu_power_finn}w\")"
   ]
  },
  {
   "cell_type": "markdown",
   "id": "cada66dd",
   "metadata": {
    "tags": []
   },
   "source": [
    "# 实验"
   ]
  },
  {
   "cell_type": "code",
   "execution_count": null,
   "id": "2e3f2fad",
   "metadata": {},
   "outputs": [],
   "source": [
    "# 如果我们设置为 \n",
    "\n",
    "\n",
    "args.model_type              = \"tinyhar\"#\"deepconvlstm\"#\"sahar\" #\"deepconvlstm\"\n",
    "\n",
    "args.cross_channel_interaction_type = \"attn\"\n",
    "args.cross_channel_aggregation_type = \"FC\"\n",
    "args.temporal_info_interaction_type = \"lstm\"\n",
    "args.temporal_info_aggregation_type = \"tnaive\"\n",
    "\n",
    "exp = Exp(args)"
   ]
  },
  {
   "cell_type": "code",
   "execution_count": null,
   "id": "20d58f10",
   "metadata": {},
   "outputs": [],
   "source": [
    "exp.model"
   ]
  },
  {
   "cell_type": "code",
   "execution_count": null,
   "id": "f8aed663",
   "metadata": {},
   "outputs": [],
   "source": [
    "exp.train()"
   ]
  },
  {
   "cell_type": "code",
   "execution_count": null,
   "id": "26d97ad8",
   "metadata": {},
   "outputs": [],
   "source": []
  },
  {
   "cell_type": "code",
   "execution_count": null,
   "id": "89d6c81d",
   "metadata": {},
   "outputs": [],
   "source": []
  },
  {
   "cell_type": "code",
   "execution_count": null,
   "id": "86ba8aac",
   "metadata": {},
   "outputs": [],
   "source": []
  },
  {
   "cell_type": "code",
   "execution_count": null,
   "id": "e2bb5ad4",
   "metadata": {},
   "outputs": [],
   "source": []
  },
  {
   "cell_type": "code",
   "execution_count": null,
   "id": "9d066180",
   "metadata": {},
   "outputs": [],
   "source": []
  },
  {
   "cell_type": "code",
   "execution_count": null,
   "id": "7a596b7a",
   "metadata": {},
   "outputs": [],
   "source": []
  },
  {
   "cell_type": "code",
   "execution_count": null,
   "id": "4e7fb08e",
   "metadata": {},
   "outputs": [],
   "source": []
  },
  {
   "cell_type": "code",
   "execution_count": null,
   "id": "04508e6c",
   "metadata": {},
   "outputs": [],
   "source": []
  },
  {
   "cell_type": "code",
   "execution_count": null,
   "id": "339ae571",
   "metadata": {},
   "outputs": [],
   "source": [
    "dataset = data_dict[args.data_name](args)"
   ]
  },
  {
   "cell_type": "code",
   "execution_count": null,
   "id": "779e3397",
   "metadata": {},
   "outputs": [],
   "source": [
    "import numpy as np"
   ]
  },
  {
   "cell_type": "code",
   "execution_count": null,
   "id": "cfb6776a",
   "metadata": {},
   "outputs": [],
   "source": [
    "start_index = dataset.train_slidingwindows[0][1]\n",
    "end_index   = dataset.train_slidingwindows[0][2]\n",
    "sample_x_1    = dataset.data_x.iloc[start_index:end_index, 1:-1].values\n",
    "\n",
    "start_index = dataset.train_slidingwindows[100][1]\n",
    "end_index   = dataset.train_slidingwindows[100][2]\n",
    "sample_x_2    = dataset.data_x.iloc[start_index:end_index, 1:-1].values\n",
    "\n",
    "temp_1 = np.expand_dims(sample_x_1,0)\n",
    "temp_2 = np.expand_dims(sample_x_2,0)\n",
    "combined_x = np.concatenate([temp_1,temp_2],axis=0)\n",
    "combined_x = np.expand_dims(combined_x,1)\n",
    "combined_x = torch.tensor(combined_x).double().to(exp.device)\n",
    "print(combined_x.shape)"
   ]
  },
  {
   "cell_type": "code",
   "execution_count": null,
   "id": "2af5063a",
   "metadata": {},
   "outputs": [],
   "source": [
    "out = exp.model(combined_x)\n",
    "out = out.cpu().detach().numpy()"
   ]
  },
  {
   "cell_type": "code",
   "execution_count": null,
   "id": "fc57c0e2",
   "metadata": {},
   "outputs": [],
   "source": [
    "out.shape"
   ]
  },
  {
   "cell_type": "code",
   "execution_count": null,
   "id": "6f69036a",
   "metadata": {},
   "outputs": [],
   "source": [
    "weight = exp.model.wave_conv.wavelet_conv.weight.cpu().detach().numpy()"
   ]
  },
  {
   "cell_type": "code",
   "execution_count": null,
   "id": "d44c070a",
   "metadata": {},
   "outputs": [],
   "source": [
    "for n,p in exp.model.named_parameters():\n",
    "    print(n)"
   ]
  },
  {
   "cell_type": "code",
   "execution_count": null,
   "id": "5f19ba6e",
   "metadata": {},
   "outputs": [],
   "source": [
    "import matplotlib.pyplot as plt\n",
    "index1 = 0\n",
    "index2 = 0\n",
    "\n",
    "plt.figure()\n",
    "plt.plot(out[0,0,:,index2])\n",
    "plt.plot(out[0,1,:,index2])\n",
    "plt.plot(out[0,2,:,index2])\n",
    "plt.plot(out[0,3,:,index2])"
   ]
  },
  {
   "cell_type": "code",
   "execution_count": null,
   "id": "a3ae8916",
   "metadata": {},
   "outputs": [],
   "source": []
  },
  {
   "cell_type": "code",
   "execution_count": null,
   "id": "ffe11eb7",
   "metadata": {},
   "outputs": [],
   "source": [
    "# 如果我们设置为 \n",
    "# args.wavelet_filtering_learnable      = True\n",
    "# exp = Exp(args)"
   ]
  },
  {
   "cell_type": "code",
   "execution_count": null,
   "id": "5d15a68f",
   "metadata": {},
   "outputs": [],
   "source": []
  },
  {
   "cell_type": "code",
   "execution_count": null,
   "id": "6beec6d1",
   "metadata": {},
   "outputs": [],
   "source": []
  },
  {
   "cell_type": "code",
   "execution_count": null,
   "id": "90f99481",
   "metadata": {},
   "outputs": [],
   "source": []
  },
  {
   "cell_type": "code",
   "execution_count": null,
   "id": "d8700989",
   "metadata": {},
   "outputs": [],
   "source": []
  },
  {
   "cell_type": "code",
   "execution_count": null,
   "id": "7b222186",
   "metadata": {},
   "outputs": [],
   "source": []
  },
  {
   "cell_type": "code",
   "execution_count": null,
   "id": "5ae27337",
   "metadata": {},
   "outputs": [],
   "source": []
  },
  {
   "cell_type": "code",
   "execution_count": null,
   "id": "4506b3e7",
   "metadata": {},
   "outputs": [],
   "source": []
  },
  {
   "cell_type": "code",
   "execution_count": null,
   "id": "ca5dc27e",
   "metadata": {},
   "outputs": [],
   "source": []
  }
 ],
 "metadata": {
  "kernelspec": {
   "display_name": "Python 3 (ipykernel)",
   "language": "python",
   "name": "python3"
  },
  "language_info": {
   "codemirror_mode": {
    "name": "ipython",
    "version": 3
   },
   "file_extension": ".py",
   "mimetype": "text/x-python",
   "name": "python",
   "nbconvert_exporter": "python",
   "pygments_lexer": "ipython3",
   "version": "3.7.16"
  },
  "toc": {
   "base_numbering": 1,
   "nav_menu": {},
   "number_sections": true,
   "sideBar": true,
   "skip_h1_title": false,
   "title_cell": "Table of Contents",
   "title_sidebar": "Contents",
   "toc_cell": false,
   "toc_position": {},
   "toc_section_display": true,
   "toc_window_display": false
  }
 },
 "nbformat": 4,
 "nbformat_minor": 5
}
