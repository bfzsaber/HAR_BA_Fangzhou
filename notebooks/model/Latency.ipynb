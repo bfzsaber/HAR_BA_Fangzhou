{
 "cells": [
  {
   "cell_type": "markdown",
   "id": "f0f86c91-1fc5-4e9c-8f85-09bbc78292f3",
   "metadata": {},
   "source": [
    "## Latency in CPU, GPU"
   ]
  },
  {
   "cell_type": "code",
   "execution_count": null,
   "id": "abb00ee5-903a-4ac8-b13a-dc84e995cded",
   "metadata": {},
   "outputs": [],
   "source": [
    "import time\n",
    "import psutil\n",
    "\n",
    "def measure_latency_cpu_usage(model, test_inputs):\n",
    "    process = psutil.Process()\n",
    "    cpu_start = process.cpu_percent()\n",
    "    start = time.time()\n",
    "    predictions = model.predict(test_inputs)\n",
    "    end = time.time()\n",
    "    cpu_end = process.cpu_percent()\n",
    "    latency = end - start\n",
    "    cpu_usage = cpu_end - cpu_start\n",
    "    return latency, cpu_usage"
   ]
  },
  {
   "cell_type": "code",
   "execution_count": null,
   "id": "17b9bda3-667b-4067-a888-706fb90a59c7",
   "metadata": {},
   "outputs": [],
   "source": []
  }
 ],
 "metadata": {
  "kernelspec": {
   "display_name": "Python 3 (ipykernel)",
   "language": "python",
   "name": "python3"
  },
  "language_info": {
   "codemirror_mode": {
    "name": "ipython",
    "version": 3
   },
   "file_extension": ".py",
   "mimetype": "text/x-python",
   "name": "python",
   "nbconvert_exporter": "python",
   "pygments_lexer": "ipython3",
   "version": "3.7.16"
  }
 },
 "nbformat": 4,
 "nbformat_minor": 5
}
