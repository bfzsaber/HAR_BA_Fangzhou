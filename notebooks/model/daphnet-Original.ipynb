{
 "cells": [
  {
   "cell_type": "code",
   "execution_count": 1,
   "id": "894e2c21",
   "metadata": {
    "tags": []
   },
   "outputs": [],
   "source": [
    "import warnings\n",
    "warnings.filterwarnings(\"ignore\")\n",
    "\n",
    "import sys\n",
    "sys.path.append(\"../../\")\n",
    "\n",
    "from experiment import Exp\n",
    "\n",
    "from dataloaders import data_set,data_dict\n",
    "import torch\n",
    "import yaml\n",
    "import os\n",
    "\n",
    "import torch\n",
    "from ptflops import get_model_complexity_info"
   ]
  },
  {
   "cell_type": "code",
   "execution_count": 2,
   "id": "1442fd71-d53c-48b9-ad9c-4db58b31cf0e",
   "metadata": {
    "tags": []
   },
   "outputs": [
    {
     "data": {
      "text/plain": [
       "'1.13.1+cu117'"
      ]
     },
     "execution_count": 2,
     "metadata": {},
     "output_type": "execute_result"
    }
   ],
   "source": [
    "torch.__version__"
   ]
  },
  {
   "cell_type": "markdown",
   "id": "bcc56bc7",
   "metadata": {},
   "source": [
    "# Parameter settings"
   ]
  },
  {
   "cell_type": "markdown",
   "id": "dcc5bcbc",
   "metadata": {},
   "source": [
    "# Training parameters"
   ]
  },
  {
   "cell_type": "code",
   "execution_count": 3,
   "id": "86004ce0",
   "metadata": {
    "tags": []
   },
   "outputs": [],
   "source": [
    "class dotdict(dict):\n",
    "    \"\"\"dot.notation access to dictionary attributes\"\"\"\n",
    "    __getattr__ = dict.get\n",
    "    __setattr__ = dict.__setitem__\n",
    "    __delattr__ = dict.__delitem__\n",
    "\n",
    "args = dotdict()   \n",
    "# TODO change the path as relative path\n",
    "args.to_save_path     = r\"../../Run_logs\"            \n",
    "args.freq_save_path   = r\"../../Freq_data\"\n",
    "args.window_save_path = r\"../../Sliding_window\"\n",
    "args.root_path        = r\"../../datasets\"\n",
    "\n",
    "\n",
    "args.drop_transition  = False\n",
    "args.datanorm_type    = \"standardization\" # None ,\"standardization\", \"minmax\"\n",
    "\n",
    "\n",
    "args.batch_size       = 256                                                     \n",
    "args.shuffle          = True\n",
    "args.drop_last        = False\n",
    "args.train_vali_quote = 0.90                                           \n",
    "\n",
    "\n",
    "# training setting \n",
    "args.train_epochs            = 150\n",
    "\n",
    "args.learning_rate           = 0.001  \n",
    "args.learning_rate_patience  = 7\n",
    "args.learning_rate_factor    = 0.1\n",
    "\n",
    "\n",
    "args.early_stop_patience     = 15\n",
    "\n",
    "args.use_gpu                 = True if torch.cuda.is_available() else False\n",
    "args.gpu                     = 0\n",
    "args.use_multi_gpu           = False\n",
    "\n",
    "args.optimizer               = \"Adam\"\n",
    "args.criterion               = \"CrossEntropy\""
   ]
  },
  {
   "cell_type": "markdown",
   "id": "c282cbcb",
   "metadata": {},
   "source": [
    "## Data parameters\n",
    "\n"
   ]
  },
  {
   "cell_type": "code",
   "execution_count": 4,
   "id": "a48f8d23",
   "metadata": {
    "tags": []
   },
   "outputs": [],
   "source": [
    "# oppo : 25/50  2\n",
    "# dg   : 12/24  4\n",
    "# dsads: 12/24  4\n",
    "# pamap2: 10/20  5\n",
    "# wisdm: 12/24  4\n",
    "# skodar : 12/24 4"
   ]
  },
  {
   "cell_type": "code",
   "execution_count": 5,
   "id": "c6cd147b",
   "metadata": {
    "tags": []
   },
   "outputs": [],
   "source": [
    "args.seed                             = 1\n",
    "\n",
    "\n",
    "args.data_name                        =  \"dg\"\n",
    "\n",
    "args.wavelet_filtering                = False\n",
    "args.wavelet_filtering_regularization = False\n",
    "args.wavelet_filtering_finetuning     = False\n",
    "args.wavelet_filtering_finetuning_percent = 0.5\n",
    "args.wavelet_filtering_learnable      = False\n",
    "args.wavelet_filtering_layernorm      = False\n",
    "\n",
    "args.regulatization_tradeoff          = 0\n",
    "args.number_wavelet_filtering         = 12\n",
    "\n",
    "\n",
    "args.difference       = False \n",
    "args.filtering        =  False\n",
    "args.magnitude        =  False\n",
    "args.weighted_sampler = False\n",
    "\n",
    "\n",
    "\n",
    "\n",
    "args.pos_select       = None\n",
    "args.sensor_select    = None\n",
    "\n",
    "\n",
    "args.representation_type = \"time\"\n",
    "args.exp_mode            = \"LOCV\"\n",
    "if args.data_name      ==  \"skodar\":\n",
    "    args.exp_mode            = \"SOCV\"\n",
    "config_file = open('../../configs/data.yaml', mode='r')\n",
    "data_config = yaml.load(config_file, Loader=yaml.FullLoader)\n",
    "config = data_config[args.data_name]\n",
    "\n",
    "args.root_path       = os.path.join(args.root_path,config[\"filename\"])\n",
    "args.sampling_freq   = config[\"sampling_freq\"]\n",
    "args.num_classes     =  config[\"num_classes\"]\n",
    "window_seconds       = config[\"window_seconds\"]\n",
    "args.windowsize      =   int(window_seconds * args.sampling_freq) \n",
    "args.input_length    =  args.windowsize\n",
    "# input information\n",
    "args.c_in            = config[\"num_channels\"]\n",
    "\n",
    "\n",
    "if args.difference:\n",
    "    args.c_in = args.c_in*2\n",
    "\n",
    "if args.wavelet_filtering :\n",
    "    \n",
    "    if args.windowsize%2==1:\n",
    "        N_ds = int(torch.log2(torch.tensor(args.windowsize-1)).floor()) - 2\n",
    "    else:\n",
    "        N_ds = int(torch.log2(torch.tensor(args.windowsize)).floor()) - 2\n",
    "\n",
    "    args.f_in            =  args.number_wavelet_filtering*N_ds+1\n",
    "else:\n",
    "    args.f_in            =  1\n",
    "\n"
   ]
  },
  {
   "cell_type": "markdown",
   "id": "4d435a4c",
   "metadata": {
    "tags": []
   },
   "source": [
    "## Model parameters"
   ]
  },
  {
   "cell_type": "code",
   "execution_count": 6,
   "id": "b36ee8f7",
   "metadata": {
    "tags": []
   },
   "outputs": [],
   "source": [
    "# dsads 27838817.0 99367   26\n",
    "# skodar  9907786.0   67092 24\n",
    "# wisdm 733382.0 16\n",
    "# dg  1041602.0 16\n",
    "# oppo 7377290.0 28"
   ]
  },
  {
   "cell_type": "code",
   "execution_count": 7,
   "id": "740e9ba5-8c19-448e-a371-e790182a2c08",
   "metadata": {
    "tags": []
   },
   "outputs": [
    {
     "name": "stdout",
     "output_type": "stream",
     "text": [
      "Use GPU: cuda:0\n",
      "Build the TinyHAR model!\n",
      "Done!\n",
      "Parameter : 29664\n",
      "Set the seed as :  1\n"
     ]
    }
   ],
   "source": [
    "# 如果我们设置为 \n",
    "\n",
    "\n",
    "args.model_type              = \"tinyhar\"#\"deepconvlstm\"#\"sahar\" #\"deepconvlstm\"\n",
    "\n",
    "args.cross_channel_interaction_type = \"attn\"\n",
    "args.cross_channel_aggregation_type = \"FC\"\n",
    "args.temporal_info_interaction_type = \"lstm\"\n",
    "args.temporal_info_aggregation_type = \"tnaive\"\n",
    "\n",
    "exp = Exp(args)"
   ]
  },
  {
   "cell_type": "code",
   "execution_count": 8,
   "id": "a416f9e9",
   "metadata": {
    "tags": []
   },
   "outputs": [
    {
     "name": "stdout",
     "output_type": "stream",
     "text": [
      "model_builder(\n",
      "  29.66 k, 99.993% Params, 1.59 MMac, 100.000% MACs, \n",
      "  (model): TinyHAR_Model(\n",
      "    29.66 k, 99.993% Params, 1.59 MMac, 100.000% MACs, \n",
      "    (layers_conv): ModuleList(\n",
      "      6.34 k, 21.373% Params, 1.26 MMac, 79.109% MACs, \n",
      "      (0): Sequential(\n",
      "        160, 0.539% Params, 97.2 KMac, 6.113% MACs, \n",
      "        (0): Conv2d(120, 0.405% Params, 64.8 KMac, 4.075% MACs, 1, 20, kernel_size=(5, 1), stride=(1, 1))\n",
      "        (1): ReLU(0, 0.000% Params, 10.8 KMac, 0.679% MACs, inplace=True)\n",
      "        (2): BatchNorm2d(40, 0.135% Params, 21.6 KMac, 1.358% MACs, 20, eps=1e-05, momentum=0.1, affine=True, track_running_stats=True)\n",
      "      )\n",
      "      (1): Sequential(\n",
      "        2.06 k, 6.944% Params, 524.16 KMac, 32.966% MACs, \n",
      "        (0): Conv2d(2.02 k, 6.810% Params, 509.04 KMac, 32.015% MACs, 20, 20, kernel_size=(5, 1), stride=(2, 1))\n",
      "        (1): ReLU(0, 0.000% Params, 5.04 KMac, 0.317% MACs, inplace=True)\n",
      "        (2): BatchNorm2d(40, 0.135% Params, 10.08 KMac, 0.634% MACs, 20, eps=1e-05, momentum=0.1, affine=True, track_running_stats=True)\n",
      "      )\n",
      "      (2): Sequential(\n",
      "        2.06 k, 6.944% Params, 449.28 KMac, 28.257% MACs, \n",
      "        (0): Conv2d(2.02 k, 6.810% Params, 436.32 KMac, 27.441% MACs, 20, 20, kernel_size=(5, 1), stride=(1, 1))\n",
      "        (1): ReLU(0, 0.000% Params, 4.32 KMac, 0.272% MACs, inplace=True)\n",
      "        (2): BatchNorm2d(40, 0.135% Params, 8.64 KMac, 0.543% MACs, 20, eps=1e-05, momentum=0.1, affine=True, track_running_stats=True)\n",
      "      )\n",
      "      (3): Sequential(\n",
      "        2.06 k, 6.944% Params, 187.2 KMac, 11.774% MACs, \n",
      "        (0): Conv2d(2.02 k, 6.810% Params, 181.8 KMac, 11.434% MACs, 20, 20, kernel_size=(5, 1), stride=(2, 1))\n",
      "        (1): ReLU(0, 0.000% Params, 1.8 KMac, 0.113% MACs, inplace=True)\n",
      "        (2): BatchNorm2d(40, 0.135% Params, 3.6 KMac, 0.226% MACs, 20, eps=1e-05, momentum=0.1, affine=True, track_running_stats=True)\n",
      "      )\n",
      "    )\n",
      "    (channel_interaction): SelfAttention_interaction(\n",
      "      1.2 k, 4.045% Params, 108.0 KMac, 6.792% MACs, \n",
      "      (query): Linear(400, 1.348% Params, 36.0 KMac, 2.264% MACs, in_features=20, out_features=20, bias=False)\n",
      "      (key): Linear(400, 1.348% Params, 36.0 KMac, 2.264% MACs, in_features=20, out_features=20, bias=False)\n",
      "      (value): Linear(400, 1.348% Params, 36.0 KMac, 2.264% MACs, in_features=20, out_features=20, bias=False)\n",
      "    )\n",
      "    (channel_fusion): FC(\n",
      "      7.24 k, 24.407% Params, 72.04 KMac, 4.531% MACs, \n",
      "      (fc): Linear(7.24 k, 24.407% Params, 72.04 KMac, 4.531% MACs, in_features=180, out_features=40, bias=True)\n",
      "    )\n",
      "    (activation): ReLU(0, 0.000% Params, 400.0 Mac, 0.025% MACs, )\n",
      "    (temporal_interaction): temporal_LSTM(\n",
      "      13.12 k, 44.229% Params, 135.2 KMac, 8.503% MACs, \n",
      "      (lstm): LSTM(13.12 k, 44.229% Params, 135.2 KMac, 8.503% MACs, 40, 40, batch_first=True)\n",
      "    )\n",
      "    (dropout): Dropout(0, 0.000% Params, 0.0 Mac, 0.000% MACs, p=0.1, inplace=False)\n",
      "    (temporal_fusion): Temporal_Weighted_Aggregation(\n",
      "      1.68 k, 5.663% Params, 16.44 KMac, 1.034% MACs, \n",
      "      (fc_1): Linear(1.64 k, 5.529% Params, 16.04 KMac, 1.009% MACs, in_features=40, out_features=40, bias=True)\n",
      "      (weighs_activation): Tanh(0, 0.000% Params, 0.0 Mac, 0.000% MACs, )\n",
      "      (fc_2): Linear(40, 0.135% Params, 400.0 Mac, 0.025% MACs, in_features=40, out_features=1, bias=False)\n",
      "      (sm): Softmax(0, 0.000% Params, 0.0 Mac, 0.000% MACs, dim=1)\n",
      "    )\n",
      "    (prediction): Linear(82, 0.276% Params, 82.0 Mac, 0.005% MACs, in_features=40, out_features=2, bias=True)\n",
      "  )\n",
      ")\n",
      "Computational complexity:       1590002.0\n",
      "Number of parameters:           29664   \n"
     ]
    }
   ],
   "source": [
    "macs, params = get_model_complexity_info(exp.model, (1  ,args.input_length,args.c_in), as_strings=False,\n",
    "                                       print_per_layer_stat=True, verbose=False)\n",
    "print('{:<30}  {:<8}'.format('Computational complexity: ', macs))\n",
    "print('{:<30}  {:<8}'.format('Number of parameters: ', params))"
   ]
  },
  {
   "cell_type": "markdown",
   "id": "5bea8c2c-c0d1-41c4-b906-2b0340eab88a",
   "metadata": {
    "tags": []
   },
   "source": [
    "exp."
   ]
  },
  {
   "cell_type": "code",
   "execution_count": 9,
   "id": "bf187351",
   "metadata": {},
   "outputs": [
    {
     "name": "stdout",
     "output_type": "stream",
     "text": [
      " ----------------------- load all the data -------------------\n",
      "-----------------------Sliding file are generated -----------------------\n",
      "-----------------------Sliding file are generated -----------------------\n",
      "================ LOCV Mode ====================\n",
      "================ 10 CV ======================\n",
      "================ the 0 th CV Experiment ================ \n",
      "Leave one Out Experiment : The 1 Part as the test\n",
      "[-] Target sampling weights:  [3.88485296e-05 3.41997264e-04]\n",
      "Train data number :  28665\n",
      "The number of classes is :  2\n",
      "The input_length  is :  64\n",
      "The channel_in is :  9\n",
      "Validation data number :  3185\n",
      "Test data number :  20267\n",
      "================ Build the model ================ \n",
      "Build the TinyHAR model!\n",
      "Epoch: 1 cost time: 15.246124505996704\n",
      "VALI: Epoch: 1, Steps: 112 | Train Loss: 0.2402029  Vali Loss: 0.1831981 Vali Accuracy: 0.9161695  Vali weighted F1: 0.9181879  Vali macro F1 0.7793566 \n",
      "Validation loss decreased (inf --> 0.183198).  Saving model ...\n",
      "Epoch: 2 cost time: 14.664674997329712\n",
      "VALI: Epoch: 2, Steps: 112 | Train Loss: 0.1620950  Vali Loss: 0.1657576 Vali Accuracy: 0.9252747  Vali weighted F1: 0.9256838  Vali macro F1 0.7955611 \n",
      "new best score!!!!\n",
      "Validation loss decreased (0.183198 --> 0.165758).  Saving model ...\n",
      "new best score!!!!\n",
      "Epoch: 3 cost time: 14.705283641815186\n",
      "VALI: Epoch: 3, Steps: 112 | Train Loss: 0.1505588  Vali Loss: 0.1564094 Vali Accuracy: 0.9334380  Vali weighted F1: 0.9292659  Vali macro F1 0.7931372 \n",
      "new best score!!!!\n",
      "Validation loss decreased (0.165758 --> 0.156409).  Saving model ...\n",
      "new best score!!!!\n",
      "Epoch: 4 cost time: 14.75931453704834\n",
      "VALI: Epoch: 4, Steps: 112 | Train Loss: 0.1416488  Vali Loss: 0.1469837 Vali Accuracy: 0.9365777  Vali weighted F1: 0.9373453  Vali macro F1 0.8288225 \n",
      "new best score!!!!\n",
      "Validation loss decreased (0.156409 --> 0.146984).  Saving model ...\n",
      "new best score!!!!\n",
      "Epoch: 5 cost time: 14.795566082000732\n",
      "VALI: Epoch: 5, Steps: 112 | Train Loss: 0.1359827  Vali Loss: 0.1486873 Vali Accuracy: 0.9359498  Vali weighted F1: 0.9362136  Vali macro F1 0.8242856 \n",
      "EarlyStopping counter: 1 out of 15\n",
      "Learning rate adjusting counter: 1 out of 7\n",
      "Epoch: 6 cost time: 13.551311731338501\n",
      "VALI: Epoch: 6, Steps: 112 | Train Loss: 0.1278410  Vali Loss: 0.1428659 Vali Accuracy: 0.9400314  Vali weighted F1: 0.9407180  Vali macro F1 0.8379261 \n",
      "new best score!!!!\n",
      "Validation loss decreased (0.146984 --> 0.142866).  Saving model ...\n",
      "new best score!!!!\n",
      "Epoch: 7 cost time: 14.190616846084595\n",
      "VALI: Epoch: 7, Steps: 112 | Train Loss: 0.1238919  Vali Loss: 0.1336208 Vali Accuracy: 0.9459969  Vali weighted F1: 0.9444703  Vali macro F1 0.8422330 \n",
      "new best score!!!!\n",
      "Validation loss decreased (0.142866 --> 0.133621).  Saving model ...\n",
      "new best score!!!!\n",
      "Epoch: 8 cost time: 14.812933444976807\n",
      "VALI: Epoch: 8, Steps: 112 | Train Loss: 0.1178799  Vali Loss: 0.1374494 Vali Accuracy: 0.9412873  Vali weighted F1: 0.9418050  Vali macro F1 0.8404600 \n",
      "EarlyStopping counter: 1 out of 15\n",
      "Learning rate adjusting counter: 1 out of 7\n",
      "Epoch: 9 cost time: 14.882623195648193\n",
      "VALI: Epoch: 9, Steps: 112 | Train Loss: 0.1145229  Vali Loss: 0.1307249 Vali Accuracy: 0.9472527  Vali weighted F1: 0.9475415  Vali macro F1 0.8556902 \n",
      "new best score!!!!\n",
      "Validation loss decreased (0.133621 --> 0.130725).  Saving model ...\n",
      "new best score!!!!\n",
      "Epoch: 10 cost time: 15.065141201019287\n",
      "VALI: Epoch: 10, Steps: 112 | Train Loss: 0.1075825  Vali Loss: 0.1397300 Vali Accuracy: 0.9400314  Vali weighted F1: 0.9402376  Vali macro F1 0.8352568 \n",
      "EarlyStopping counter: 1 out of 15\n",
      "Learning rate adjusting counter: 1 out of 7\n",
      "Epoch: 11 cost time: 15.796154022216797\n",
      "VALI: Epoch: 11, Steps: 112 | Train Loss: 0.1046218  Vali Loss: 0.1383460 Vali Accuracy: 0.9456829  Vali weighted F1: 0.9442766  Vali macro F1 0.8420205 \n",
      "EarlyStopping counter: 2 out of 15\n",
      "Learning rate adjusting counter: 2 out of 7\n",
      "Epoch: 12 cost time: 15.054175853729248\n",
      "VALI: Epoch: 12, Steps: 112 | Train Loss: 0.1013265  Vali Loss: 0.1337840 Vali Accuracy: 0.9466248  Vali weighted F1: 0.9463242  Vali macro F1 0.8506928 \n",
      "EarlyStopping counter: 3 out of 15\n",
      "Learning rate adjusting counter: 3 out of 7\n",
      "Epoch: 13 cost time: 13.053159713745117\n",
      "VALI: Epoch: 13, Steps: 112 | Train Loss: 0.0936679  Vali Loss: 0.1363556 Vali Accuracy: 0.9456829  Vali weighted F1: 0.9456451  Vali macro F1 0.8495389 \n",
      "EarlyStopping counter: 4 out of 15\n",
      "Learning rate adjusting counter: 4 out of 7\n",
      "Epoch: 14 cost time: 15.09355902671814\n",
      "VALI: Epoch: 14, Steps: 112 | Train Loss: 0.0932037  Vali Loss: 0.1315997 Vali Accuracy: 0.9434851  Vali weighted F1: 0.9452840  Vali macro F1 0.8537201 \n",
      "EarlyStopping counter: 5 out of 15\n",
      "Learning rate adjusting counter: 5 out of 7\n",
      "Epoch: 15 cost time: 14.74782919883728\n",
      "VALI: Epoch: 15, Steps: 112 | Train Loss: 0.0900629  Vali Loss: 0.1397483 Vali Accuracy: 0.9419152  Vali weighted F1: 0.9446386  Vali macro F1 0.8546272 \n",
      "EarlyStopping counter: 6 out of 15\n",
      "Learning rate adjusting counter: 6 out of 7\n",
      "Epoch: 16 cost time: 13.945038318634033\n",
      "VALI: Epoch: 16, Steps: 112 | Train Loss: 0.0830506  Vali Loss: 0.1313847 Vali Accuracy: 0.9481947  Vali weighted F1: 0.9489223  Vali macro F1 0.8607382 \n",
      "EarlyStopping counter: 7 out of 15\n",
      "Learning rate adjusting counter: 7 out of 7\n",
      "Updating learning rate to 0.0001\n",
      "Epoch: 17 cost time: 15.00681471824646\n",
      "VALI: Epoch: 17, Steps: 112 | Train Loss: 0.0672124  Vali Loss: 0.1264519 Vali Accuracy: 0.9500785  Vali weighted F1: 0.9509075  Vali macro F1 0.8665160 \n",
      "new best score!!!!\n",
      "Validation loss decreased (0.130725 --> 0.126452).  Saving model ...\n",
      "new best score!!!!\n",
      "Epoch: 18 cost time: 14.923137903213501\n",
      "VALI: Epoch: 18, Steps: 112 | Train Loss: 0.0639751  Vali Loss: 0.1300329 Vali Accuracy: 0.9500785  Vali weighted F1: 0.9517544  Vali macro F1 0.8712775 \n",
      "EarlyStopping counter: 1 out of 15\n",
      "Learning rate adjusting counter: 1 out of 7\n",
      "Epoch: 19 cost time: 12.96588683128357\n",
      "VALI: Epoch: 19, Steps: 112 | Train Loss: 0.0606028  Vali Loss: 0.1268349 Vali Accuracy: 0.9522763  Vali weighted F1: 0.9533962  Vali macro F1 0.8742266 \n",
      "EarlyStopping counter: 2 out of 15\n",
      "Learning rate adjusting counter: 2 out of 7\n",
      "Epoch: 20 cost time: 14.868001699447632\n",
      "VALI: Epoch: 20, Steps: 112 | Train Loss: 0.0583424  Vali Loss: 0.1335971 Vali Accuracy: 0.9522763  Vali weighted F1: 0.9531593  Vali macro F1 0.8728989 \n",
      "EarlyStopping counter: 3 out of 15\n",
      "Learning rate adjusting counter: 3 out of 7\n",
      "Epoch: 21 cost time: 14.918509483337402\n",
      "VALI: Epoch: 21, Steps: 112 | Train Loss: 0.0574493  Vali Loss: 0.1310658 Vali Accuracy: 0.9516484  Vali weighted F1: 0.9529587  Vali macro F1 0.8735595 \n",
      "EarlyStopping counter: 4 out of 15\n",
      "Learning rate adjusting counter: 4 out of 7\n",
      "Epoch: 22 cost time: 14.656440258026123\n",
      "VALI: Epoch: 22, Steps: 112 | Train Loss: 0.0557098  Vali Loss: 0.1342219 Vali Accuracy: 0.9519623  Vali weighted F1: 0.9531773  Vali macro F1 0.8738920 \n",
      "EarlyStopping counter: 5 out of 15\n",
      "Learning rate adjusting counter: 5 out of 7\n",
      "Epoch: 23 cost time: 14.626697778701782\n",
      "VALI: Epoch: 23, Steps: 112 | Train Loss: 0.0543148  Vali Loss: 0.1404004 Vali Accuracy: 0.9472527  Vali weighted F1: 0.9496411  Vali macro F1 0.8675015 \n",
      "EarlyStopping counter: 6 out of 15\n",
      "Learning rate adjusting counter: 6 out of 7\n",
      "Epoch: 24 cost time: 15.041226148605347\n",
      "VALI: Epoch: 24, Steps: 112 | Train Loss: 0.0539622  Vali Loss: 0.1359836 Vali Accuracy: 0.9516484  Vali weighted F1: 0.9529587  Vali macro F1 0.8735595 \n",
      "EarlyStopping counter: 7 out of 15\n",
      "Learning rate adjusting counter: 7 out of 7\n",
      "Updating learning rate to 1e-05\n",
      "Epoch: 25 cost time: 14.653681516647339\n",
      "VALI: Epoch: 25, Steps: 112 | Train Loss: 0.0513939  Vali Loss: 0.1373734 Vali Accuracy: 0.9516484  Vali weighted F1: 0.9531308  Vali macro F1 0.8745298 \n",
      "EarlyStopping counter: 8 out of 15\n",
      "Learning rate adjusting counter: 1 out of 7\n",
      "Epoch: 26 cost time: 14.630571365356445\n",
      "VALI: Epoch: 26, Steps: 112 | Train Loss: 0.0507279  Vali Loss: 0.1369453 Vali Accuracy: 0.9516484  Vali weighted F1: 0.9532995  Vali macro F1 0.8754831 \n",
      "EarlyStopping counter: 9 out of 15\n",
      "Learning rate adjusting counter: 2 out of 7\n",
      "Epoch: 27 cost time: 14.1381676197052\n",
      "VALI: Epoch: 27, Steps: 112 | Train Loss: 0.0496854  Vali Loss: 0.1381608 Vali Accuracy: 0.9510204  Vali weighted F1: 0.9526364  Vali macro F1 0.8735460 \n",
      "EarlyStopping counter: 10 out of 15\n",
      "Learning rate adjusting counter: 3 out of 7\n",
      "Epoch: 28 cost time: 14.644425630569458\n",
      "VALI: Epoch: 28, Steps: 112 | Train Loss: 0.0493928  Vali Loss: 0.1378403 Vali Accuracy: 0.9516484  Vali weighted F1: 0.9531308  Vali macro F1 0.8745298 \n",
      "EarlyStopping counter: 11 out of 15\n",
      "Learning rate adjusting counter: 4 out of 7\n",
      "Epoch: 29 cost time: 14.805397033691406\n",
      "VALI: Epoch: 29, Steps: 112 | Train Loss: 0.0515833  Vali Loss: 0.1369877 Vali Accuracy: 0.9513344  Vali weighted F1: 0.9529682  Vali macro F1 0.8745158 \n",
      "EarlyStopping counter: 12 out of 15\n",
      "Learning rate adjusting counter: 5 out of 7\n",
      "Epoch: 30 cost time: 15.04430603981018\n",
      "VALI: Epoch: 30, Steps: 112 | Train Loss: 0.0489247  Vali Loss: 0.1400548 Vali Accuracy: 0.9503925  Vali weighted F1: 0.9523118  Vali macro F1 0.8735265 \n",
      "EarlyStopping counter: 13 out of 15\n",
      "Learning rate adjusting counter: 6 out of 7\n"
     ]
    },
    {
     "ename": "KeyboardInterrupt",
     "evalue": "",
     "output_type": "error",
     "traceback": [
      "\u001b[0;31m---------------------------------------------------------------------------\u001b[0m",
      "\u001b[0;31mKeyboardInterrupt\u001b[0m                         Traceback (most recent call last)",
      "\u001b[0;32m/tmp/ipykernel_5795/3332912701.py\u001b[0m in \u001b[0;36m<module>\u001b[0;34m\u001b[0m\n\u001b[0;32m----> 1\u001b[0;31m \u001b[0mexp\u001b[0m\u001b[0;34m.\u001b[0m\u001b[0mtrain\u001b[0m\u001b[0;34m(\u001b[0m\u001b[0;34m)\u001b[0m\u001b[0;34m\u001b[0m\u001b[0;34m\u001b[0m\u001b[0m\n\u001b[0m",
      "\u001b[0;32m~/finn/notebooks/HAR/experiment.py\u001b[0m in \u001b[0;36mtrain\u001b[0;34m(self)\u001b[0m\n\u001b[1;32m    306\u001b[0m                     \u001b[0mepoch_time\u001b[0m \u001b[0;34m=\u001b[0m \u001b[0mtime\u001b[0m\u001b[0;34m.\u001b[0m\u001b[0mtime\u001b[0m\u001b[0;34m(\u001b[0m\u001b[0;34m)\u001b[0m\u001b[0;34m\u001b[0m\u001b[0;34m\u001b[0m\u001b[0m\n\u001b[1;32m    307\u001b[0m \u001b[0;34m\u001b[0m\u001b[0m\n\u001b[0;32m--> 308\u001b[0;31m                     \u001b[0;32mfor\u001b[0m \u001b[0mi\u001b[0m\u001b[0;34m,\u001b[0m \u001b[0;34m(\u001b[0m\u001b[0mbatch_x1\u001b[0m\u001b[0;34m,\u001b[0m\u001b[0mbatch_x2\u001b[0m\u001b[0;34m,\u001b[0m\u001b[0mbatch_y\u001b[0m\u001b[0;34m)\u001b[0m \u001b[0;32min\u001b[0m \u001b[0menumerate\u001b[0m\u001b[0;34m(\u001b[0m\u001b[0mtrain_loader\u001b[0m\u001b[0;34m)\u001b[0m\u001b[0;34m:\u001b[0m\u001b[0;34m\u001b[0m\u001b[0;34m\u001b[0m\u001b[0m\n\u001b[0m\u001b[1;32m    309\u001b[0m \u001b[0;34m\u001b[0m\u001b[0m\n\u001b[1;32m    310\u001b[0m                         \u001b[0;31m#if \"cross\" in self.args.model_type:\u001b[0m\u001b[0;34m\u001b[0m\u001b[0;34m\u001b[0m\u001b[0;34m\u001b[0m\u001b[0m\n",
      "\u001b[0;32m~/anaconda3/envs/FPGA/lib/python3.7/site-packages/torch/utils/data/dataloader.py\u001b[0m in \u001b[0;36m__next__\u001b[0;34m(self)\u001b[0m\n\u001b[1;32m    626\u001b[0m                 \u001b[0;31m# TODO(https://github.com/pytorch/pytorch/issues/76750)\u001b[0m\u001b[0;34m\u001b[0m\u001b[0;34m\u001b[0m\u001b[0;34m\u001b[0m\u001b[0m\n\u001b[1;32m    627\u001b[0m                 \u001b[0mself\u001b[0m\u001b[0;34m.\u001b[0m\u001b[0m_reset\u001b[0m\u001b[0;34m(\u001b[0m\u001b[0;34m)\u001b[0m  \u001b[0;31m# type: ignore[call-arg]\u001b[0m\u001b[0;34m\u001b[0m\u001b[0;34m\u001b[0m\u001b[0m\n\u001b[0;32m--> 628\u001b[0;31m             \u001b[0mdata\u001b[0m \u001b[0;34m=\u001b[0m \u001b[0mself\u001b[0m\u001b[0;34m.\u001b[0m\u001b[0m_next_data\u001b[0m\u001b[0;34m(\u001b[0m\u001b[0;34m)\u001b[0m\u001b[0;34m\u001b[0m\u001b[0;34m\u001b[0m\u001b[0m\n\u001b[0m\u001b[1;32m    629\u001b[0m             \u001b[0mself\u001b[0m\u001b[0;34m.\u001b[0m\u001b[0m_num_yielded\u001b[0m \u001b[0;34m+=\u001b[0m \u001b[0;36m1\u001b[0m\u001b[0;34m\u001b[0m\u001b[0;34m\u001b[0m\u001b[0m\n\u001b[1;32m    630\u001b[0m             \u001b[0;32mif\u001b[0m \u001b[0mself\u001b[0m\u001b[0;34m.\u001b[0m\u001b[0m_dataset_kind\u001b[0m \u001b[0;34m==\u001b[0m \u001b[0m_DatasetKind\u001b[0m\u001b[0;34m.\u001b[0m\u001b[0mIterable\u001b[0m \u001b[0;32mand\u001b[0m\u001b[0;31m \u001b[0m\u001b[0;31m\\\u001b[0m\u001b[0;34m\u001b[0m\u001b[0;34m\u001b[0m\u001b[0m\n",
      "\u001b[0;32m~/anaconda3/envs/FPGA/lib/python3.7/site-packages/torch/utils/data/dataloader.py\u001b[0m in \u001b[0;36m_next_data\u001b[0;34m(self)\u001b[0m\n\u001b[1;32m    669\u001b[0m     \u001b[0;32mdef\u001b[0m \u001b[0m_next_data\u001b[0m\u001b[0;34m(\u001b[0m\u001b[0mself\u001b[0m\u001b[0;34m)\u001b[0m\u001b[0;34m:\u001b[0m\u001b[0;34m\u001b[0m\u001b[0;34m\u001b[0m\u001b[0m\n\u001b[1;32m    670\u001b[0m         \u001b[0mindex\u001b[0m \u001b[0;34m=\u001b[0m \u001b[0mself\u001b[0m\u001b[0;34m.\u001b[0m\u001b[0m_next_index\u001b[0m\u001b[0;34m(\u001b[0m\u001b[0;34m)\u001b[0m  \u001b[0;31m# may raise StopIteration\u001b[0m\u001b[0;34m\u001b[0m\u001b[0;34m\u001b[0m\u001b[0m\n\u001b[0;32m--> 671\u001b[0;31m         \u001b[0mdata\u001b[0m \u001b[0;34m=\u001b[0m \u001b[0mself\u001b[0m\u001b[0;34m.\u001b[0m\u001b[0m_dataset_fetcher\u001b[0m\u001b[0;34m.\u001b[0m\u001b[0mfetch\u001b[0m\u001b[0;34m(\u001b[0m\u001b[0mindex\u001b[0m\u001b[0;34m)\u001b[0m  \u001b[0;31m# may raise StopIteration\u001b[0m\u001b[0;34m\u001b[0m\u001b[0;34m\u001b[0m\u001b[0m\n\u001b[0m\u001b[1;32m    672\u001b[0m         \u001b[0;32mif\u001b[0m \u001b[0mself\u001b[0m\u001b[0;34m.\u001b[0m\u001b[0m_pin_memory\u001b[0m\u001b[0;34m:\u001b[0m\u001b[0;34m\u001b[0m\u001b[0;34m\u001b[0m\u001b[0m\n\u001b[1;32m    673\u001b[0m             \u001b[0mdata\u001b[0m \u001b[0;34m=\u001b[0m \u001b[0m_utils\u001b[0m\u001b[0;34m.\u001b[0m\u001b[0mpin_memory\u001b[0m\u001b[0;34m.\u001b[0m\u001b[0mpin_memory\u001b[0m\u001b[0;34m(\u001b[0m\u001b[0mdata\u001b[0m\u001b[0;34m,\u001b[0m \u001b[0mself\u001b[0m\u001b[0;34m.\u001b[0m\u001b[0m_pin_memory_device\u001b[0m\u001b[0;34m)\u001b[0m\u001b[0;34m\u001b[0m\u001b[0;34m\u001b[0m\u001b[0m\n",
      "\u001b[0;32m~/anaconda3/envs/FPGA/lib/python3.7/site-packages/torch/utils/data/_utils/fetch.py\u001b[0m in \u001b[0;36mfetch\u001b[0;34m(self, possibly_batched_index)\u001b[0m\n\u001b[1;32m     56\u001b[0m                 \u001b[0mdata\u001b[0m \u001b[0;34m=\u001b[0m \u001b[0mself\u001b[0m\u001b[0;34m.\u001b[0m\u001b[0mdataset\u001b[0m\u001b[0;34m.\u001b[0m\u001b[0m__getitems__\u001b[0m\u001b[0;34m(\u001b[0m\u001b[0mpossibly_batched_index\u001b[0m\u001b[0;34m)\u001b[0m\u001b[0;34m\u001b[0m\u001b[0;34m\u001b[0m\u001b[0m\n\u001b[1;32m     57\u001b[0m             \u001b[0;32melse\u001b[0m\u001b[0;34m:\u001b[0m\u001b[0;34m\u001b[0m\u001b[0;34m\u001b[0m\u001b[0m\n\u001b[0;32m---> 58\u001b[0;31m                 \u001b[0mdata\u001b[0m \u001b[0;34m=\u001b[0m \u001b[0;34m[\u001b[0m\u001b[0mself\u001b[0m\u001b[0;34m.\u001b[0m\u001b[0mdataset\u001b[0m\u001b[0;34m[\u001b[0m\u001b[0midx\u001b[0m\u001b[0;34m]\u001b[0m \u001b[0;32mfor\u001b[0m \u001b[0midx\u001b[0m \u001b[0;32min\u001b[0m \u001b[0mpossibly_batched_index\u001b[0m\u001b[0;34m]\u001b[0m\u001b[0;34m\u001b[0m\u001b[0;34m\u001b[0m\u001b[0m\n\u001b[0m\u001b[1;32m     59\u001b[0m         \u001b[0;32melse\u001b[0m\u001b[0;34m:\u001b[0m\u001b[0;34m\u001b[0m\u001b[0;34m\u001b[0m\u001b[0m\n\u001b[1;32m     60\u001b[0m             \u001b[0mdata\u001b[0m \u001b[0;34m=\u001b[0m \u001b[0mself\u001b[0m\u001b[0;34m.\u001b[0m\u001b[0mdataset\u001b[0m\u001b[0;34m[\u001b[0m\u001b[0mpossibly_batched_index\u001b[0m\u001b[0;34m]\u001b[0m\u001b[0;34m\u001b[0m\u001b[0;34m\u001b[0m\u001b[0m\n",
      "\u001b[0;32m~/anaconda3/envs/FPGA/lib/python3.7/site-packages/torch/utils/data/_utils/fetch.py\u001b[0m in \u001b[0;36m<listcomp>\u001b[0;34m(.0)\u001b[0m\n\u001b[1;32m     56\u001b[0m                 \u001b[0mdata\u001b[0m \u001b[0;34m=\u001b[0m \u001b[0mself\u001b[0m\u001b[0;34m.\u001b[0m\u001b[0mdataset\u001b[0m\u001b[0;34m.\u001b[0m\u001b[0m__getitems__\u001b[0m\u001b[0;34m(\u001b[0m\u001b[0mpossibly_batched_index\u001b[0m\u001b[0;34m)\u001b[0m\u001b[0;34m\u001b[0m\u001b[0;34m\u001b[0m\u001b[0m\n\u001b[1;32m     57\u001b[0m             \u001b[0;32melse\u001b[0m\u001b[0;34m:\u001b[0m\u001b[0;34m\u001b[0m\u001b[0;34m\u001b[0m\u001b[0m\n\u001b[0;32m---> 58\u001b[0;31m                 \u001b[0mdata\u001b[0m \u001b[0;34m=\u001b[0m \u001b[0;34m[\u001b[0m\u001b[0mself\u001b[0m\u001b[0;34m.\u001b[0m\u001b[0mdataset\u001b[0m\u001b[0;34m[\u001b[0m\u001b[0midx\u001b[0m\u001b[0;34m]\u001b[0m \u001b[0;32mfor\u001b[0m \u001b[0midx\u001b[0m \u001b[0;32min\u001b[0m \u001b[0mpossibly_batched_index\u001b[0m\u001b[0;34m]\u001b[0m\u001b[0;34m\u001b[0m\u001b[0;34m\u001b[0m\u001b[0m\n\u001b[0m\u001b[1;32m     59\u001b[0m         \u001b[0;32melse\u001b[0m\u001b[0;34m:\u001b[0m\u001b[0;34m\u001b[0m\u001b[0;34m\u001b[0m\u001b[0m\n\u001b[1;32m     60\u001b[0m             \u001b[0mdata\u001b[0m \u001b[0;34m=\u001b[0m \u001b[0mself\u001b[0m\u001b[0;34m.\u001b[0m\u001b[0mdataset\u001b[0m\u001b[0;34m[\u001b[0m\u001b[0mpossibly_batched_index\u001b[0m\u001b[0;34m]\u001b[0m\u001b[0;34m\u001b[0m\u001b[0;34m\u001b[0m\u001b[0m\n",
      "\u001b[0;32m~/finn/notebooks/HAR/dataloaders/__init__.py\u001b[0m in \u001b[0;36m__getitem__\u001b[0;34m(self, index)\u001b[0m\n\u001b[1;32m    164\u001b[0m                 \u001b[0msample_x\u001b[0m \u001b[0;34m=\u001b[0m \u001b[0mnp\u001b[0m\u001b[0;34m.\u001b[0m\u001b[0marray\u001b[0m\u001b[0;34m(\u001b[0m\u001b[0mself\u001b[0m\u001b[0;34m.\u001b[0m\u001b[0mdata_x\u001b[0m\u001b[0;34m.\u001b[0m\u001b[0miloc\u001b[0m\u001b[0;34m[\u001b[0m\u001b[0mstart_index\u001b[0m\u001b[0;34m:\u001b[0m\u001b[0mend_index\u001b[0m\u001b[0;34m,\u001b[0m \u001b[0;36m1\u001b[0m\u001b[0;34m:\u001b[0m\u001b[0;34m-\u001b[0m\u001b[0;36m1\u001b[0m\u001b[0;34m]\u001b[0m\u001b[0;34m.\u001b[0m\u001b[0mapply\u001b[0m\u001b[0;34m(\u001b[0m\u001b[0;32mlambda\u001b[0m \u001b[0mx\u001b[0m\u001b[0;34m:\u001b[0m \u001b[0;34m(\u001b[0m\u001b[0mx\u001b[0m \u001b[0;34m-\u001b[0m \u001b[0mnp\u001b[0m\u001b[0;34m.\u001b[0m\u001b[0mmean\u001b[0m\u001b[0;34m(\u001b[0m\u001b[0mx\u001b[0m\u001b[0;34m)\u001b[0m\u001b[0;34m)\u001b[0m \u001b[0;34m/\u001b[0m \u001b[0;34m(\u001b[0m\u001b[0mnp\u001b[0m\u001b[0;34m.\u001b[0m\u001b[0mmax\u001b[0m\u001b[0;34m(\u001b[0m\u001b[0mx\u001b[0m\u001b[0;34m)\u001b[0m \u001b[0;34m-\u001b[0m \u001b[0mnp\u001b[0m\u001b[0;34m.\u001b[0m\u001b[0mmin\u001b[0m\u001b[0;34m(\u001b[0m\u001b[0mx\u001b[0m\u001b[0;34m)\u001b[0m\u001b[0;34m)\u001b[0m\u001b[0;34m)\u001b[0m\u001b[0;34m)\u001b[0m\u001b[0;34m\u001b[0m\u001b[0;34m\u001b[0m\u001b[0m\n\u001b[1;32m    165\u001b[0m             \u001b[0;32melse\u001b[0m\u001b[0;34m:\u001b[0m\u001b[0;34m\u001b[0m\u001b[0;34m\u001b[0m\u001b[0m\n\u001b[0;32m--> 166\u001b[0;31m                 \u001b[0msample_x\u001b[0m \u001b[0;34m=\u001b[0m \u001b[0mself\u001b[0m\u001b[0;34m.\u001b[0m\u001b[0mdata_x\u001b[0m\u001b[0;34m.\u001b[0m\u001b[0miloc\u001b[0m\u001b[0;34m[\u001b[0m\u001b[0mstart_index\u001b[0m\u001b[0;34m:\u001b[0m\u001b[0mend_index\u001b[0m\u001b[0;34m,\u001b[0m \u001b[0;36m1\u001b[0m\u001b[0;34m:\u001b[0m\u001b[0;34m-\u001b[0m\u001b[0;36m1\u001b[0m\u001b[0;34m]\u001b[0m\u001b[0;34m.\u001b[0m\u001b[0mvalues\u001b[0m\u001b[0;34m\u001b[0m\u001b[0;34m\u001b[0m\u001b[0m\n\u001b[0m\u001b[1;32m    167\u001b[0m \u001b[0;34m\u001b[0m\u001b[0m\n\u001b[1;32m    168\u001b[0m             \u001b[0msample_y\u001b[0m \u001b[0;34m=\u001b[0m \u001b[0mself\u001b[0m\u001b[0;34m.\u001b[0m\u001b[0mclass_transform\u001b[0m\u001b[0;34m[\u001b[0m\u001b[0mself\u001b[0m\u001b[0;34m.\u001b[0m\u001b[0mdata_y\u001b[0m\u001b[0;34m.\u001b[0m\u001b[0miloc\u001b[0m\u001b[0;34m[\u001b[0m\u001b[0mstart_index\u001b[0m\u001b[0;34m:\u001b[0m\u001b[0mend_index\u001b[0m\u001b[0;34m]\u001b[0m\u001b[0;34m.\u001b[0m\u001b[0mmode\u001b[0m\u001b[0;34m(\u001b[0m\u001b[0;34m)\u001b[0m\u001b[0;34m.\u001b[0m\u001b[0mloc\u001b[0m\u001b[0;34m[\u001b[0m\u001b[0;36m0\u001b[0m\u001b[0;34m]\u001b[0m\u001b[0;34m]\u001b[0m\u001b[0;34m\u001b[0m\u001b[0;34m\u001b[0m\u001b[0m\n",
      "\u001b[0;32m~/anaconda3/envs/FPGA/lib/python3.7/site-packages/pandas/core/indexing.py\u001b[0m in \u001b[0;36m__getitem__\u001b[0;34m(self, key)\u001b[0m\n\u001b[1;32m    923\u001b[0m                 \u001b[0;32mwith\u001b[0m \u001b[0msuppress\u001b[0m\u001b[0;34m(\u001b[0m\u001b[0mKeyError\u001b[0m\u001b[0;34m,\u001b[0m \u001b[0mIndexError\u001b[0m\u001b[0;34m)\u001b[0m\u001b[0;34m:\u001b[0m\u001b[0;34m\u001b[0m\u001b[0;34m\u001b[0m\u001b[0m\n\u001b[1;32m    924\u001b[0m                     \u001b[0;32mreturn\u001b[0m \u001b[0mself\u001b[0m\u001b[0;34m.\u001b[0m\u001b[0mobj\u001b[0m\u001b[0;34m.\u001b[0m\u001b[0m_get_value\u001b[0m\u001b[0;34m(\u001b[0m\u001b[0;34m*\u001b[0m\u001b[0mkey\u001b[0m\u001b[0;34m,\u001b[0m \u001b[0mtakeable\u001b[0m\u001b[0;34m=\u001b[0m\u001b[0mself\u001b[0m\u001b[0;34m.\u001b[0m\u001b[0m_takeable\u001b[0m\u001b[0;34m)\u001b[0m\u001b[0;34m\u001b[0m\u001b[0;34m\u001b[0m\u001b[0m\n\u001b[0;32m--> 925\u001b[0;31m             \u001b[0;32mreturn\u001b[0m \u001b[0mself\u001b[0m\u001b[0;34m.\u001b[0m\u001b[0m_getitem_tuple\u001b[0m\u001b[0;34m(\u001b[0m\u001b[0mkey\u001b[0m\u001b[0;34m)\u001b[0m\u001b[0;34m\u001b[0m\u001b[0;34m\u001b[0m\u001b[0m\n\u001b[0m\u001b[1;32m    926\u001b[0m         \u001b[0;32melse\u001b[0m\u001b[0;34m:\u001b[0m\u001b[0;34m\u001b[0m\u001b[0;34m\u001b[0m\u001b[0m\n\u001b[1;32m    927\u001b[0m             \u001b[0;31m# we by definition only have the 0th axis\u001b[0m\u001b[0;34m\u001b[0m\u001b[0;34m\u001b[0m\u001b[0;34m\u001b[0m\u001b[0m\n",
      "\u001b[0;32m~/anaconda3/envs/FPGA/lib/python3.7/site-packages/pandas/core/indexing.py\u001b[0m in \u001b[0;36m_getitem_tuple\u001b[0;34m(self, tup)\u001b[0m\n\u001b[1;32m   1504\u001b[0m     \u001b[0;32mdef\u001b[0m \u001b[0m_getitem_tuple\u001b[0m\u001b[0;34m(\u001b[0m\u001b[0mself\u001b[0m\u001b[0;34m,\u001b[0m \u001b[0mtup\u001b[0m\u001b[0;34m:\u001b[0m \u001b[0mtuple\u001b[0m\u001b[0;34m)\u001b[0m\u001b[0;34m:\u001b[0m\u001b[0;34m\u001b[0m\u001b[0;34m\u001b[0m\u001b[0m\n\u001b[1;32m   1505\u001b[0m \u001b[0;34m\u001b[0m\u001b[0m\n\u001b[0;32m-> 1506\u001b[0;31m         \u001b[0mself\u001b[0m\u001b[0;34m.\u001b[0m\u001b[0m_has_valid_tuple\u001b[0m\u001b[0;34m(\u001b[0m\u001b[0mtup\u001b[0m\u001b[0;34m)\u001b[0m\u001b[0;34m\u001b[0m\u001b[0;34m\u001b[0m\u001b[0m\n\u001b[0m\u001b[1;32m   1507\u001b[0m         \u001b[0;32mwith\u001b[0m \u001b[0msuppress\u001b[0m\u001b[0;34m(\u001b[0m\u001b[0mIndexingError\u001b[0m\u001b[0;34m)\u001b[0m\u001b[0;34m:\u001b[0m\u001b[0;34m\u001b[0m\u001b[0;34m\u001b[0m\u001b[0m\n\u001b[1;32m   1508\u001b[0m             \u001b[0;32mreturn\u001b[0m \u001b[0mself\u001b[0m\u001b[0;34m.\u001b[0m\u001b[0m_getitem_lowerdim\u001b[0m\u001b[0;34m(\u001b[0m\u001b[0mtup\u001b[0m\u001b[0;34m)\u001b[0m\u001b[0;34m\u001b[0m\u001b[0;34m\u001b[0m\u001b[0m\n",
      "\u001b[0;32m~/anaconda3/envs/FPGA/lib/python3.7/site-packages/pandas/core/indexing.py\u001b[0m in \u001b[0;36m_has_valid_tuple\u001b[0;34m(self, key)\u001b[0m\n\u001b[1;32m    752\u001b[0m         \u001b[0;32mfor\u001b[0m \u001b[0mi\u001b[0m\u001b[0;34m,\u001b[0m \u001b[0mk\u001b[0m \u001b[0;32min\u001b[0m \u001b[0menumerate\u001b[0m\u001b[0;34m(\u001b[0m\u001b[0mkey\u001b[0m\u001b[0;34m)\u001b[0m\u001b[0;34m:\u001b[0m\u001b[0;34m\u001b[0m\u001b[0;34m\u001b[0m\u001b[0m\n\u001b[1;32m    753\u001b[0m             \u001b[0;32mtry\u001b[0m\u001b[0;34m:\u001b[0m\u001b[0;34m\u001b[0m\u001b[0;34m\u001b[0m\u001b[0m\n\u001b[0;32m--> 754\u001b[0;31m                 \u001b[0mself\u001b[0m\u001b[0;34m.\u001b[0m\u001b[0m_validate_key\u001b[0m\u001b[0;34m(\u001b[0m\u001b[0mk\u001b[0m\u001b[0;34m,\u001b[0m \u001b[0mi\u001b[0m\u001b[0;34m)\u001b[0m\u001b[0;34m\u001b[0m\u001b[0;34m\u001b[0m\u001b[0m\n\u001b[0m\u001b[1;32m    755\u001b[0m             \u001b[0;32mexcept\u001b[0m \u001b[0mValueError\u001b[0m \u001b[0;32mas\u001b[0m \u001b[0merr\u001b[0m\u001b[0;34m:\u001b[0m\u001b[0;34m\u001b[0m\u001b[0;34m\u001b[0m\u001b[0m\n\u001b[1;32m    756\u001b[0m                 raise ValueError(\n",
      "\u001b[0;32m~/anaconda3/envs/FPGA/lib/python3.7/site-packages/pandas/core/indexing.py\u001b[0m in \u001b[0;36m_validate_key\u001b[0;34m(self, key, axis)\u001b[0m\n\u001b[1;32m   1390\u001b[0m \u001b[0;34m\u001b[0m\u001b[0m\n\u001b[1;32m   1391\u001b[0m     \u001b[0;32mdef\u001b[0m \u001b[0m_validate_key\u001b[0m\u001b[0;34m(\u001b[0m\u001b[0mself\u001b[0m\u001b[0;34m,\u001b[0m \u001b[0mkey\u001b[0m\u001b[0;34m,\u001b[0m \u001b[0maxis\u001b[0m\u001b[0;34m:\u001b[0m \u001b[0mint\u001b[0m\u001b[0;34m)\u001b[0m\u001b[0;34m:\u001b[0m\u001b[0;34m\u001b[0m\u001b[0;34m\u001b[0m\u001b[0m\n\u001b[0;32m-> 1392\u001b[0;31m         \u001b[0;32mif\u001b[0m \u001b[0mcom\u001b[0m\u001b[0;34m.\u001b[0m\u001b[0mis_bool_indexer\u001b[0m\u001b[0;34m(\u001b[0m\u001b[0mkey\u001b[0m\u001b[0;34m)\u001b[0m\u001b[0;34m:\u001b[0m\u001b[0;34m\u001b[0m\u001b[0;34m\u001b[0m\u001b[0m\n\u001b[0m\u001b[1;32m   1393\u001b[0m             \u001b[0;32mif\u001b[0m \u001b[0mhasattr\u001b[0m\u001b[0;34m(\u001b[0m\u001b[0mkey\u001b[0m\u001b[0;34m,\u001b[0m \u001b[0;34m\"index\"\u001b[0m\u001b[0;34m)\u001b[0m \u001b[0;32mand\u001b[0m \u001b[0misinstance\u001b[0m\u001b[0;34m(\u001b[0m\u001b[0mkey\u001b[0m\u001b[0;34m.\u001b[0m\u001b[0mindex\u001b[0m\u001b[0;34m,\u001b[0m \u001b[0mIndex\u001b[0m\u001b[0;34m)\u001b[0m\u001b[0;34m:\u001b[0m\u001b[0;34m\u001b[0m\u001b[0;34m\u001b[0m\u001b[0m\n\u001b[1;32m   1394\u001b[0m                 \u001b[0;32mif\u001b[0m \u001b[0mkey\u001b[0m\u001b[0;34m.\u001b[0m\u001b[0mindex\u001b[0m\u001b[0;34m.\u001b[0m\u001b[0minferred_type\u001b[0m \u001b[0;34m==\u001b[0m \u001b[0;34m\"integer\"\u001b[0m\u001b[0;34m:\u001b[0m\u001b[0;34m\u001b[0m\u001b[0;34m\u001b[0m\u001b[0m\n",
      "\u001b[0;32m~/anaconda3/envs/FPGA/lib/python3.7/site-packages/pandas/core/common.py\u001b[0m in \u001b[0;36mis_bool_indexer\u001b[0;34m(key)\u001b[0m\n\u001b[1;32m    127\u001b[0m     \"\"\"\n\u001b[1;32m    128\u001b[0m     if isinstance(key, (ABCSeries, np.ndarray, ABCIndex)) or (\n\u001b[0;32m--> 129\u001b[0;31m         \u001b[0mis_array_like\u001b[0m\u001b[0;34m(\u001b[0m\u001b[0mkey\u001b[0m\u001b[0;34m)\u001b[0m \u001b[0;32mand\u001b[0m \u001b[0mis_extension_array_dtype\u001b[0m\u001b[0;34m(\u001b[0m\u001b[0mkey\u001b[0m\u001b[0;34m.\u001b[0m\u001b[0mdtype\u001b[0m\u001b[0;34m)\u001b[0m\u001b[0;34m\u001b[0m\u001b[0;34m\u001b[0m\u001b[0m\n\u001b[0m\u001b[1;32m    130\u001b[0m     ):\n\u001b[1;32m    131\u001b[0m         \u001b[0;32mif\u001b[0m \u001b[0mkey\u001b[0m\u001b[0;34m.\u001b[0m\u001b[0mdtype\u001b[0m \u001b[0;34m==\u001b[0m \u001b[0mnp\u001b[0m\u001b[0;34m.\u001b[0m\u001b[0mobject_\u001b[0m\u001b[0;34m:\u001b[0m\u001b[0;34m\u001b[0m\u001b[0;34m\u001b[0m\u001b[0m\n",
      "\u001b[0;32m~/anaconda3/envs/FPGA/lib/python3.7/site-packages/pandas/core/dtypes/inference.py\u001b[0m in \u001b[0;36mis_array_like\u001b[0;34m(obj)\u001b[0m\n\u001b[1;32m    211\u001b[0m     \u001b[0;32mFalse\u001b[0m\u001b[0;34m\u001b[0m\u001b[0;34m\u001b[0m\u001b[0m\n\u001b[1;32m    212\u001b[0m     \"\"\"\n\u001b[0;32m--> 213\u001b[0;31m     \u001b[0;32mreturn\u001b[0m \u001b[0mis_list_like\u001b[0m\u001b[0;34m(\u001b[0m\u001b[0mobj\u001b[0m\u001b[0;34m)\u001b[0m \u001b[0;32mand\u001b[0m \u001b[0mhasattr\u001b[0m\u001b[0;34m(\u001b[0m\u001b[0mobj\u001b[0m\u001b[0;34m,\u001b[0m \u001b[0;34m\"dtype\"\u001b[0m\u001b[0;34m)\u001b[0m\u001b[0;34m\u001b[0m\u001b[0;34m\u001b[0m\u001b[0m\n\u001b[0m\u001b[1;32m    214\u001b[0m \u001b[0;34m\u001b[0m\u001b[0m\n\u001b[1;32m    215\u001b[0m \u001b[0;34m\u001b[0m\u001b[0m\n",
      "\u001b[0;31mKeyboardInterrupt\u001b[0m: "
     ]
    }
   ],
   "source": [
    "exp.train()"
   ]
  },
  {
   "cell_type": "markdown",
   "id": "b248cca7-0caa-4e15-b30d-b867a9455f13",
   "metadata": {
    "tags": []
   },
   "source": [
    "#### if self.args.model_type == \"mcnn\":\n",
    "            config_file = open('../../configs/model.yaml', mode='r')\n",
    "            config = yaml.load(config_file, Loader=yaml.FullLoader)[\"mcnn\"]\n",
    "            setting = \"mcnn_data_{}_seed_{}_windowsize_{}_waveFilter_{}_Fscaling_{}_cvfilter_{}_Regu_{}_wavelearnble_{}\".format(self.args.data_name,\n",
    "                                                                                                                                              self.args.seed,\n",
    "                                                                                                                                              self.args.windowsize,\n",
    "                                                                                                                                              self.args.wavelet_filtering,\n",
    "                                                                                                                                              self.args.filter_scaling_factor,\n",
    "                                                                                                                                              config[\"nb_filters\"],\n",
    "                                                                                                                                              self.args.wavelet_filtering_regularization,\n",
    "                                                                                                                                              self.args.wavelet_filtering_learnable )\n",
    "            return setting\n"
   ]
  },
  {
   "cell_type": "markdown",
   "id": "f6c8ceb9-293c-4a35-8518-6f73eaaf9e46",
   "metadata": {},
   "source": [
    "pamap2:\n",
    "  filename: \"PAMAP2_Dataset/Protocol\"\n",
    "  sampling_freq: 33\n",
    "  num_classes: 12\n",
    "  num_channels: 18\n",
    "  window_seconds: 5.12\n",
    "  \n",
    "self.model  = MCNN((1,f_in, self.args.input_length, self.args.c_in ), \n",
    "                                self.args.num_classes,\n",
    "                                self.args.filter_scaling_factor,\n",
    "                                config)\n",
    "(1,1,169,18) 12, 1\n",
    "f_in = 1\n",
    "args.windowsize      =   int(window_seconds * args.sampling_freq) \n",
    "                     = 169\n",
    "args.filter_scaling_factor =1                     \n",
    "\n",
    "args.root_path       = os.path.join(args.root_path,config[\"filename\"])\n",
    "args.sampling_freq   = config[\"sampling_freq\"]\n",
    "args.num_classes     =  config[\"num_classes\"]\n",
    "window_seconds       = config[\"window_seconds\"]\n",
    "args.windowsize      =   int(window_seconds * args.sampling_freq) \n",
    "args.input_length    =  args.windowsize\n",
    "# input information\n",
    "args.c_in            = config[\"num_channels\"]"
   ]
  },
  {
   "cell_type": "code",
   "execution_count": null,
   "id": "1f7e0bad-2d0a-48d9-ad1d-e8d274093d4b",
   "metadata": {
    "tags": []
   },
   "outputs": [],
   "source": [
    "from models.TinyHAR import TinyHAR_Model\n",
    "from brevitas.export import export_onnx_qcdq"
   ]
  },
  {
   "cell_type": "markdown",
   "id": "2fb8b5c3-07f1-4015-a09c-dd5705808836",
   "metadata": {},
   "source": [
    "The number of classes is :  2\n",
    "The input_length  is :  64\n",
    "The channel_in is :  9"
   ]
  },
  {
   "cell_type": "code",
   "execution_count": null,
   "id": "b377e65f-e44d-44ec-9f58-05b9a5e02152",
   "metadata": {
    "tags": []
   },
   "outputs": [],
   "source": [
    "num_classes = 2\n",
    "num_channels = 9\n",
    "windowsize = 64\n",
    "input_shape =(1, 1, windowsize, num_channels)\n",
    "print(input_shape)\n",
    "config_file = open('../../configs/model.yaml', mode='r')\n",
    "config = yaml.load(config_file, Loader=yaml.FullLoader)[\"tinyhar\"]\n"
   ]
  },
  {
   "cell_type": "code",
   "execution_count": null,
   "id": "34266ea1-182a-4fe1-9221-81b51fd374fc",
   "metadata": {
    "tags": []
   },
   "outputs": [],
   "source": [
    "model = TinyHAR_Model(input_shape = input_shape,\n",
    "                      number_class = num_classes,\n",
    "                      filter_num = 20,\n",
    "                      cross_channel_interaction_type = \"attn\",\n",
    "                      cross_channel_aggregation_type = \"FC\",\n",
    "                      temporal_info_interaction_type = \"conv\",\n",
    "                      temporal_info_aggregation_type = \"tnaive\")"
   ]
  },
  {
   "cell_type": "code",
   "execution_count": null,
   "id": "d9d51f2c-4cad-4e33-bb95-1185e9e0b1f3",
   "metadata": {},
   "outputs": [],
   "source": [
    "loadPath = \"/home/bian/finn/notebooks/HAR/Run_logs/logs/tinyhar_data_dg_seed_1_windowsize_64_cvfilter_20_CI_attn_CA_FC_TI_conv_TA_tnaive/cv_0/best_vali.pth\"\n",
    "\n",
    "model.load_state_dict(torch.load(loadPath),strict=False)\n",
    "model.eval()"
   ]
  },
  {
   "cell_type": "code",
   "execution_count": null,
   "id": "ae503bb2-baf4-4675-a9da-bf98d562f1c5",
   "metadata": {},
   "outputs": [],
   "source": [
    "import torch\n",
    "import brevitas.onnx as bo\n",
    "from brevitas.quant_tensor import QuantTensor\n",
    "\n",
    "ready_model_filename = \"daphnet_attn_conv_4.onnx\"\n",
    "\n",
    "# Export to ONNX\n",
    "#Move to CPU before export\n",
    "model.cpu()\n",
    "inp = torch.randn(1, 1, windowsize, num_channels)\n",
    "bo.export_finn_onnx(model, inp, ready_model_filename)\n",
    "\"\"\"\n",
    "torch.onnx.export(model, \n",
    "                  data_usage, \n",
    "                  ready_model_filename,   # where to save the model (can be a file or file-like object)\n",
    "                  export_params=True,        # store the trained parameter weights inside the model file         # the ONNX version to export the model to\n",
    "                  do_constant_folding=True,  # whether to execute constant folding for optimization\n",
    "                  input_names = ['input'],   # the model's input names\n",
    "                  output_names = ['output'] # the model's output names\n",
    "                  )\n",
    "\"\"\"\n",
    "print(\"Model saved to %s\" % ready_model_filename)"
   ]
  },
  {
   "cell_type": "code",
   "execution_count": null,
   "id": "31a9b9b9-6f29-4fda-9953-626e1e0d89c6",
   "metadata": {},
   "outputs": [],
   "source": []
  },
  {
   "cell_type": "code",
   "execution_count": null,
   "id": "cdcb2da9-2752-4935-9930-1e134205de58",
   "metadata": {
    "tags": []
   },
   "outputs": [],
   "source": [
    "from LatencyMeasurer import LatencyMeasurer\n",
    "\n",
    "model = model.cpu()\n",
    "measurer = LatencyMeasurer(model)\n",
    "\n",
    "cpu_latency = measurer.measure_latency_CPU(input_shape)\n",
    "cpu_finn_latency = measurer.measure_CPU_latency_finn(model.forward_truncated, input_shape)\n",
    "print(f\"cpu latency for quantized TinyHAR: {cpu_latency}s,\\nfinn part latency: {cpu_finn_latency}s\")\n",
    "model = model.cuda()\n",
    "measurer = LatencyMeasurer(model)\n",
    "gpu_latency = measurer.measure_GPU_latency(input_shape)\n",
    "gpu_finn_latency = measurer.measure_GPU_finn_latency(model.forward_truncated, input_shape)\n",
    "print(f\"gpu latency for quantized TinyHAR: {gpu_latency}s,\\nfinn part latency: {gpu_finn_latency}s\")"
   ]
  },
  {
   "cell_type": "code",
   "execution_count": null,
   "id": "80c81226-98e6-418c-9d41-2d43a6fe94c9",
   "metadata": {
    "tags": []
   },
   "outputs": [],
   "source": [
    "import PowerMeasurer\n",
    "\n",
    "model = model.cuda()\n",
    "gpu_power = PowerMeasurer.measure_gpu_power(model, input_shape)\n",
    "gpu_power_finn = PowerMeasurer.measure_gpu_finn_power(model, model.forward_truncated,input_shape)\n",
    "print(f\"gpu power consumption for quantized TinyHAR: {gpu_power}W,\\nfinn part latency: {gpu_power_finn}w\")"
   ]
  },
  {
   "cell_type": "markdown",
   "id": "cada66dd",
   "metadata": {
    "tags": []
   },
   "source": [
    "# 实验"
   ]
  },
  {
   "cell_type": "code",
   "execution_count": null,
   "id": "2e3f2fad",
   "metadata": {},
   "outputs": [],
   "source": [
    "# 如果我们设置为 \n",
    "\n",
    "\n",
    "args.model_type              = \"tinyhar\"#\"deepconvlstm\"#\"sahar\" #\"deepconvlstm\"\n",
    "\n",
    "args.cross_channel_interaction_type = \"attn\"\n",
    "args.cross_channel_aggregation_type = \"FC\"\n",
    "args.temporal_info_interaction_type = \"lstm\"\n",
    "args.temporal_info_aggregation_type = \"tnaive\"\n",
    "\n",
    "exp = Exp(args)"
   ]
  },
  {
   "cell_type": "code",
   "execution_count": null,
   "id": "20d58f10",
   "metadata": {},
   "outputs": [],
   "source": [
    "exp.model"
   ]
  },
  {
   "cell_type": "code",
   "execution_count": null,
   "id": "f8aed663",
   "metadata": {},
   "outputs": [],
   "source": [
    "exp.train()"
   ]
  },
  {
   "cell_type": "code",
   "execution_count": null,
   "id": "26d97ad8",
   "metadata": {},
   "outputs": [],
   "source": []
  },
  {
   "cell_type": "code",
   "execution_count": null,
   "id": "89d6c81d",
   "metadata": {},
   "outputs": [],
   "source": []
  },
  {
   "cell_type": "code",
   "execution_count": null,
   "id": "86ba8aac",
   "metadata": {},
   "outputs": [],
   "source": []
  },
  {
   "cell_type": "code",
   "execution_count": null,
   "id": "e2bb5ad4",
   "metadata": {},
   "outputs": [],
   "source": []
  },
  {
   "cell_type": "code",
   "execution_count": null,
   "id": "9d066180",
   "metadata": {},
   "outputs": [],
   "source": []
  },
  {
   "cell_type": "code",
   "execution_count": null,
   "id": "7a596b7a",
   "metadata": {},
   "outputs": [],
   "source": []
  },
  {
   "cell_type": "code",
   "execution_count": null,
   "id": "4e7fb08e",
   "metadata": {},
   "outputs": [],
   "source": []
  },
  {
   "cell_type": "code",
   "execution_count": null,
   "id": "04508e6c",
   "metadata": {},
   "outputs": [],
   "source": []
  },
  {
   "cell_type": "code",
   "execution_count": null,
   "id": "339ae571",
   "metadata": {},
   "outputs": [],
   "source": [
    "dataset = data_dict[args.data_name](args)"
   ]
  },
  {
   "cell_type": "code",
   "execution_count": null,
   "id": "779e3397",
   "metadata": {},
   "outputs": [],
   "source": [
    "import numpy as np"
   ]
  },
  {
   "cell_type": "code",
   "execution_count": null,
   "id": "cfb6776a",
   "metadata": {},
   "outputs": [],
   "source": [
    "start_index = dataset.train_slidingwindows[0][1]\n",
    "end_index   = dataset.train_slidingwindows[0][2]\n",
    "sample_x_1    = dataset.data_x.iloc[start_index:end_index, 1:-1].values\n",
    "\n",
    "start_index = dataset.train_slidingwindows[100][1]\n",
    "end_index   = dataset.train_slidingwindows[100][2]\n",
    "sample_x_2    = dataset.data_x.iloc[start_index:end_index, 1:-1].values\n",
    "\n",
    "temp_1 = np.expand_dims(sample_x_1,0)\n",
    "temp_2 = np.expand_dims(sample_x_2,0)\n",
    "combined_x = np.concatenate([temp_1,temp_2],axis=0)\n",
    "combined_x = np.expand_dims(combined_x,1)\n",
    "combined_x = torch.tensor(combined_x).double().to(exp.device)\n",
    "print(combined_x.shape)"
   ]
  },
  {
   "cell_type": "code",
   "execution_count": null,
   "id": "2af5063a",
   "metadata": {},
   "outputs": [],
   "source": [
    "out = exp.model(combined_x)\n",
    "out = out.cpu().detach().numpy()"
   ]
  },
  {
   "cell_type": "code",
   "execution_count": null,
   "id": "fc57c0e2",
   "metadata": {},
   "outputs": [],
   "source": [
    "out.shape"
   ]
  },
  {
   "cell_type": "code",
   "execution_count": null,
   "id": "6f69036a",
   "metadata": {},
   "outputs": [],
   "source": [
    "weight = exp.model.wave_conv.wavelet_conv.weight.cpu().detach().numpy()"
   ]
  },
  {
   "cell_type": "code",
   "execution_count": null,
   "id": "d44c070a",
   "metadata": {},
   "outputs": [],
   "source": [
    "for n,p in exp.model.named_parameters():\n",
    "    print(n)"
   ]
  },
  {
   "cell_type": "code",
   "execution_count": null,
   "id": "5f19ba6e",
   "metadata": {},
   "outputs": [],
   "source": [
    "import matplotlib.pyplot as plt\n",
    "index1 = 0\n",
    "index2 = 0\n",
    "\n",
    "plt.figure()\n",
    "plt.plot(out[0,0,:,index2])\n",
    "plt.plot(out[0,1,:,index2])\n",
    "plt.plot(out[0,2,:,index2])\n",
    "plt.plot(out[0,3,:,index2])"
   ]
  },
  {
   "cell_type": "code",
   "execution_count": null,
   "id": "a3ae8916",
   "metadata": {},
   "outputs": [],
   "source": []
  },
  {
   "cell_type": "code",
   "execution_count": null,
   "id": "ffe11eb7",
   "metadata": {},
   "outputs": [],
   "source": [
    "# 如果我们设置为 \n",
    "# args.wavelet_filtering_learnable      = True\n",
    "# exp = Exp(args)"
   ]
  },
  {
   "cell_type": "code",
   "execution_count": null,
   "id": "5d15a68f",
   "metadata": {},
   "outputs": [],
   "source": []
  },
  {
   "cell_type": "code",
   "execution_count": null,
   "id": "6beec6d1",
   "metadata": {},
   "outputs": [],
   "source": []
  },
  {
   "cell_type": "code",
   "execution_count": null,
   "id": "90f99481",
   "metadata": {},
   "outputs": [],
   "source": []
  },
  {
   "cell_type": "code",
   "execution_count": null,
   "id": "d8700989",
   "metadata": {},
   "outputs": [],
   "source": []
  },
  {
   "cell_type": "code",
   "execution_count": null,
   "id": "7b222186",
   "metadata": {},
   "outputs": [],
   "source": []
  },
  {
   "cell_type": "code",
   "execution_count": null,
   "id": "5ae27337",
   "metadata": {},
   "outputs": [],
   "source": []
  },
  {
   "cell_type": "code",
   "execution_count": null,
   "id": "4506b3e7",
   "metadata": {},
   "outputs": [],
   "source": []
  },
  {
   "cell_type": "code",
   "execution_count": null,
   "id": "ca5dc27e",
   "metadata": {},
   "outputs": [],
   "source": []
  }
 ],
 "metadata": {
  "kernelspec": {
   "display_name": "Python 3 (ipykernel)",
   "language": "python",
   "name": "python3"
  },
  "language_info": {
   "codemirror_mode": {
    "name": "ipython",
    "version": 3
   },
   "file_extension": ".py",
   "mimetype": "text/x-python",
   "name": "python",
   "nbconvert_exporter": "python",
   "pygments_lexer": "ipython3",
   "version": "3.7.16"
  },
  "toc": {
   "base_numbering": 1,
   "nav_menu": {},
   "number_sections": true,
   "sideBar": true,
   "skip_h1_title": false,
   "title_cell": "Table of Contents",
   "title_sidebar": "Contents",
   "toc_cell": false,
   "toc_position": {},
   "toc_section_display": true,
   "toc_window_display": false
  }
 },
 "nbformat": 4,
 "nbformat_minor": 5
}
